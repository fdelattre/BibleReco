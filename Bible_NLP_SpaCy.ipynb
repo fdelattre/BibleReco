{
  "nbformat": 4,
  "nbformat_minor": 0,
  "metadata": {
    "colab": {
      "name": "Bible NLP SpaCy.ipynb",
      "provenance": [],
      "toc_visible": true,
      "mount_file_id": "1UA-m5ycCDUCYlijk2G4zHWJ-NIa8Loqm",
      "authorship_tag": "ABX9TyPBlPCJgh24Gv6bgXC8fupc",
      "include_colab_link": true
    },
    "kernelspec": {
      "name": "python3",
      "display_name": "Python 3"
    },
    "language_info": {
      "name": "python"
    }
  },
  "cells": [
    {
      "cell_type": "markdown",
      "metadata": {
        "id": "view-in-github",
        "colab_type": "text"
      },
      "source": [
        "<a href=\"https://colab.research.google.com/github/fdelattre/BibleReco/blob/main/Bible_NLP_SpaCy.ipynb\" target=\"_parent\"><img src=\"https://colab.research.google.com/assets/colab-badge.svg\" alt=\"Open In Colab\"/></a>"
      ]
    },
    {
      "cell_type": "markdown",
      "source": [
        "# Application de quelques techniques NLP sur les textes bibliques"
      ],
      "metadata": {
        "id": "V3e8LPR-Bxlm"
      }
    },
    {
      "cell_type": "markdown",
      "source": [
        "Le corpus biblique en français est disponible intégralement en ligne sur le site de l'[Association Épiscopale Liturgique pour les pays Francophones](https://www.aelf.org/bible).\n",
        "\n",
        "Le texte a été préalablement scrappé depuis le site internet et formatté comme ceci :\n",
        "\n",
        "| Champ | Description |\n",
        "|---|---|\n",
        "| TESTAMENT | Ancien 'AT', Nouveau 'NT' ou Psaumes 'PS' |\n",
        "| LIVRE | Titre du livre (ex : \"Lettre de Saint Paul Apôtre aux Romains\") |\n",
        "| CODE_LIVRE | Code du livre (ex : Rm) |\n",
        "| CHAPITRE | Numéro du chapitre dans le livre |\n",
        "| URL | Url sur le site de l'AELF |\n",
        "| VERSET | numéro du verset |\n",
        "| TEXTE | Texte du verset |\n",
        "\n",
        "\n",
        "> Dans ce notebook, nous appliquerons quelques techniques de nettoyage de texte. Nous tenterons ensuite de visualiser les proximités qui existent entre les textes. Enfin, nous proposerons une sorte de moteur de recommandation biblique.\n",
        "\n",
        "Quelques pré-requis sont nécessaires \\:\n",
        "* pandas\n",
        "* numpy\n",
        "* stopwordiso\n",
        "* sklearn\n",
        "* seaborn / matplotlib\n",
        "* spacy (version >=3) et le modèle fr_core_news_lg\n",
        "\n",
        "\n",
        "\n"
      ],
      "metadata": {
        "id": "7DlU1asHtEDh"
      }
    },
    {
      "cell_type": "code",
      "source": [
        "! pip install 'spacy>=3'\n",
        "! python -m spacy download fr_core_news_md\n",
        "! pip install stopwordsiso"
      ],
      "metadata": {
        "id": "SmA_nUulPAcz"
      },
      "execution_count": null,
      "outputs": []
    },
    {
      "cell_type": "markdown",
      "source": [
        "# Lecture et transformations des données"
      ],
      "metadata": {
        "id": "Sxz0t-nJMciX"
      }
    },
    {
      "cell_type": "code",
      "source": [
        "from google.colab import drive\n",
        "drive.mount('/gdrive')\n",
        "%cd /gdrive"
      ],
      "metadata": {
        "colab": {
          "base_uri": "https://localhost:8080/"
        },
        "id": "3Y5bdTDwB0cC",
        "outputId": "6fe22faa-0d48-41a8-dbd3-4d7e0133d314"
      },
      "execution_count": 3,
      "outputs": [
        {
          "output_type": "stream",
          "name": "stdout",
          "text": [
            "Mounted at /gdrive\n",
            "/gdrive\n"
          ]
        }
      ]
    },
    {
      "cell_type": "code",
      "source": [
        "import pandas as pd\n",
        "filepath = '/gdrive/MyDrive/Colab Notebooks/bible_aelf.parquet.gzip'\n",
        "data = pd.read_parquet(filepath)\n",
        "data.sample(5)"
      ],
      "metadata": {
        "colab": {
          "base_uri": "https://localhost:8080/",
          "height": 206
        },
        "id": "sQkRHmSQB3Mz",
        "outputId": "c1df32e4-895d-49cc-c2d2-72d4376212a4"
      },
      "execution_count": 4,
      "outputs": [
        {
          "output_type": "execute_result",
          "data": {
            "text/html": [
              "\n",
              "  <div id=\"df-85e5c0ef-224b-4191-92a2-5b5f10cdd1c3\">\n",
              "    <div class=\"colab-df-container\">\n",
              "      <div>\n",
              "<style scoped>\n",
              "    .dataframe tbody tr th:only-of-type {\n",
              "        vertical-align: middle;\n",
              "    }\n",
              "\n",
              "    .dataframe tbody tr th {\n",
              "        vertical-align: top;\n",
              "    }\n",
              "\n",
              "    .dataframe thead th {\n",
              "        text-align: right;\n",
              "    }\n",
              "</style>\n",
              "<table border=\"1\" class=\"dataframe\">\n",
              "  <thead>\n",
              "    <tr style=\"text-align: right;\">\n",
              "      <th></th>\n",
              "      <th>TESTAMENT</th>\n",
              "      <th>LIVRE</th>\n",
              "      <th>CODE_LIVRE</th>\n",
              "      <th>CHAPITRE</th>\n",
              "      <th>URL</th>\n",
              "      <th>VERSET</th>\n",
              "      <th>TEXTE</th>\n",
              "    </tr>\n",
              "  </thead>\n",
              "  <tbody>\n",
              "    <tr>\n",
              "      <th>24430</th>\n",
              "      <td>AT</td>\n",
              "      <td>Livre du Lévitique</td>\n",
              "      <td>Lv</td>\n",
              "      <td>14</td>\n",
              "      <td>https://www.aelf.org/bible/Lv/14</td>\n",
              "      <td>05</td>\n",
              "      <td>Puis il ordonnera d’immoler un des oiseaux sur...</td>\n",
              "    </tr>\n",
              "    <tr>\n",
              "      <th>15494</th>\n",
              "      <td>AT</td>\n",
              "      <td>Livre de la Genèse</td>\n",
              "      <td>Gn</td>\n",
              "      <td>37</td>\n",
              "      <td>https://www.aelf.org/bible/Gn/37</td>\n",
              "      <td>19</td>\n",
              "      <td>Ils se dirent l’un à l’autre : « Voici l’exper...</td>\n",
              "    </tr>\n",
              "    <tr>\n",
              "      <th>33423</th>\n",
              "      <td>AT</td>\n",
              "      <td>Livre de la Sagesse</td>\n",
              "      <td>Sg</td>\n",
              "      <td>19</td>\n",
              "      <td>https://www.aelf.org/bible/Sg/19</td>\n",
              "      <td>07</td>\n",
              "      <td>On vit la nuée recouvrir le camp de son ombre,...</td>\n",
              "    </tr>\n",
              "    <tr>\n",
              "      <th>4054</th>\n",
              "      <td>AT</td>\n",
              "      <td>Premier livre de Samuel</td>\n",
              "      <td>1S</td>\n",
              "      <td>27</td>\n",
              "      <td>https://www.aelf.org/bible/1S/27</td>\n",
              "      <td>05</td>\n",
              "      <td>David dit à Akish : « Si j’ai trouvé grâce à t...</td>\n",
              "    </tr>\n",
              "    <tr>\n",
              "      <th>19961</th>\n",
              "      <td>NT</td>\n",
              "      <td>Evangile de Jésus-Christ selon saint Jean</td>\n",
              "      <td>Jn</td>\n",
              "      <td>5</td>\n",
              "      <td>https://www.aelf.org/bible/Jn/5</td>\n",
              "      <td>13</td>\n",
              "      <td>Mais celui qui avait été rétabli ne savait pas...</td>\n",
              "    </tr>\n",
              "  </tbody>\n",
              "</table>\n",
              "</div>\n",
              "      <button class=\"colab-df-convert\" onclick=\"convertToInteractive('df-85e5c0ef-224b-4191-92a2-5b5f10cdd1c3')\"\n",
              "              title=\"Convert this dataframe to an interactive table.\"\n",
              "              style=\"display:none;\">\n",
              "        \n",
              "  <svg xmlns=\"http://www.w3.org/2000/svg\" height=\"24px\"viewBox=\"0 0 24 24\"\n",
              "       width=\"24px\">\n",
              "    <path d=\"M0 0h24v24H0V0z\" fill=\"none\"/>\n",
              "    <path d=\"M18.56 5.44l.94 2.06.94-2.06 2.06-.94-2.06-.94-.94-2.06-.94 2.06-2.06.94zm-11 1L8.5 8.5l.94-2.06 2.06-.94-2.06-.94L8.5 2.5l-.94 2.06-2.06.94zm10 10l.94 2.06.94-2.06 2.06-.94-2.06-.94-.94-2.06-.94 2.06-2.06.94z\"/><path d=\"M17.41 7.96l-1.37-1.37c-.4-.4-.92-.59-1.43-.59-.52 0-1.04.2-1.43.59L10.3 9.45l-7.72 7.72c-.78.78-.78 2.05 0 2.83L4 21.41c.39.39.9.59 1.41.59.51 0 1.02-.2 1.41-.59l7.78-7.78 2.81-2.81c.8-.78.8-2.07 0-2.86zM5.41 20L4 18.59l7.72-7.72 1.47 1.35L5.41 20z\"/>\n",
              "  </svg>\n",
              "      </button>\n",
              "      \n",
              "  <style>\n",
              "    .colab-df-container {\n",
              "      display:flex;\n",
              "      flex-wrap:wrap;\n",
              "      gap: 12px;\n",
              "    }\n",
              "\n",
              "    .colab-df-convert {\n",
              "      background-color: #E8F0FE;\n",
              "      border: none;\n",
              "      border-radius: 50%;\n",
              "      cursor: pointer;\n",
              "      display: none;\n",
              "      fill: #1967D2;\n",
              "      height: 32px;\n",
              "      padding: 0 0 0 0;\n",
              "      width: 32px;\n",
              "    }\n",
              "\n",
              "    .colab-df-convert:hover {\n",
              "      background-color: #E2EBFA;\n",
              "      box-shadow: 0px 1px 2px rgba(60, 64, 67, 0.3), 0px 1px 3px 1px rgba(60, 64, 67, 0.15);\n",
              "      fill: #174EA6;\n",
              "    }\n",
              "\n",
              "    [theme=dark] .colab-df-convert {\n",
              "      background-color: #3B4455;\n",
              "      fill: #D2E3FC;\n",
              "    }\n",
              "\n",
              "    [theme=dark] .colab-df-convert:hover {\n",
              "      background-color: #434B5C;\n",
              "      box-shadow: 0px 1px 3px 1px rgba(0, 0, 0, 0.15);\n",
              "      filter: drop-shadow(0px 1px 2px rgba(0, 0, 0, 0.3));\n",
              "      fill: #FFFFFF;\n",
              "    }\n",
              "  </style>\n",
              "\n",
              "      <script>\n",
              "        const buttonEl =\n",
              "          document.querySelector('#df-85e5c0ef-224b-4191-92a2-5b5f10cdd1c3 button.colab-df-convert');\n",
              "        buttonEl.style.display =\n",
              "          google.colab.kernel.accessAllowed ? 'block' : 'none';\n",
              "\n",
              "        async function convertToInteractive(key) {\n",
              "          const element = document.querySelector('#df-85e5c0ef-224b-4191-92a2-5b5f10cdd1c3');\n",
              "          const dataTable =\n",
              "            await google.colab.kernel.invokeFunction('convertToInteractive',\n",
              "                                                     [key], {});\n",
              "          if (!dataTable) return;\n",
              "\n",
              "          const docLinkHtml = 'Like what you see? Visit the ' +\n",
              "            '<a target=\"_blank\" href=https://colab.research.google.com/notebooks/data_table.ipynb>data table notebook</a>'\n",
              "            + ' to learn more about interactive tables.';\n",
              "          element.innerHTML = '';\n",
              "          dataTable['output_type'] = 'display_data';\n",
              "          await google.colab.output.renderOutput(dataTable, element);\n",
              "          const docLink = document.createElement('div');\n",
              "          docLink.innerHTML = docLinkHtml;\n",
              "          element.appendChild(docLink);\n",
              "        }\n",
              "      </script>\n",
              "    </div>\n",
              "  </div>\n",
              "  "
            ],
            "text/plain": [
              "      TESTAMENT  ...                                              TEXTE\n",
              "24430        AT  ...  Puis il ordonnera d’immoler un des oiseaux sur...\n",
              "15494        AT  ...  Ils se dirent l’un à l’autre : « Voici l’exper...\n",
              "33423        AT  ...  On vit la nuée recouvrir le camp de son ombre,...\n",
              "4054         AT  ...  David dit à Akish : « Si j’ai trouvé grâce à t...\n",
              "19961        NT  ...  Mais celui qui avait été rétabli ne savait pas...\n",
              "\n",
              "[5 rows x 7 columns]"
            ]
          },
          "metadata": {},
          "execution_count": 4
        }
      ]
    },
    {
      "cell_type": "markdown",
      "source": [
        "## Nettoyage du texte\n",
        "* Passage en minuscules\n",
        "* retrait des signes de ponctuation et des chiffres\n",
        "* retrait des stopwords en se basant sur la liste [Stopwords ISO](https://github.com/stopwords-iso)"
      ],
      "metadata": {
        "id": "fLn94trakoQ1"
      }
    },
    {
      "cell_type": "code",
      "source": [
        "import stopwordsiso as stopwords\n",
        "import re\n",
        "\n",
        "def clean_text(txt, remove_stop_words = True):\n",
        "  \n",
        "  txt_clean         =  ''.join([re.sub(r'[^a-zA-ZÀ-ÿ]', ' ', r.lower()) for r in txt])\n",
        "  \n",
        "  if remove_stop_words:\n",
        "    stopWords         = set(stopwords.stopwords(\"fr\"))  # French stopwords\n",
        "    txt_clean = ' '.join([item for item in txt_clean.split() if item not in stopWords])\n",
        "  \n",
        "  return str.rstrip(txt_clean)"
      ],
      "metadata": {
        "id": "ZZs84i7FY9CW"
      },
      "execution_count": 5,
      "outputs": []
    },
    {
      "cell_type": "code",
      "source": [
        "data['TEXTE_CLEAN'] = data['TEXTE'].apply(clean_text, remove_stop_words = True)\n",
        "\n",
        "data[['TEXTE', 'TEXTE_CLEAN']].sample(5)"
      ],
      "metadata": {
        "colab": {
          "base_uri": "https://localhost:8080/",
          "height": 206
        },
        "id": "UEoFjnYqn1bw",
        "outputId": "c6178a24-3beb-4802-94f6-4292274f1589"
      },
      "execution_count": 6,
      "outputs": [
        {
          "output_type": "execute_result",
          "data": {
            "text/html": [
              "\n",
              "  <div id=\"df-716f9479-f936-43ba-b2c5-5c99eb43e473\">\n",
              "    <div class=\"colab-df-container\">\n",
              "      <div>\n",
              "<style scoped>\n",
              "    .dataframe tbody tr th:only-of-type {\n",
              "        vertical-align: middle;\n",
              "    }\n",
              "\n",
              "    .dataframe tbody tr th {\n",
              "        vertical-align: top;\n",
              "    }\n",
              "\n",
              "    .dataframe thead th {\n",
              "        text-align: right;\n",
              "    }\n",
              "</style>\n",
              "<table border=\"1\" class=\"dataframe\">\n",
              "  <thead>\n",
              "    <tr style=\"text-align: right;\">\n",
              "      <th></th>\n",
              "      <th>TEXTE</th>\n",
              "      <th>TEXTE_CLEAN</th>\n",
              "    </tr>\n",
              "  </thead>\n",
              "  <tbody>\n",
              "    <tr>\n",
              "      <th>32984</th>\n",
              "      <td>Et moi, je me suis dit que j’allais t’en infor...</td>\n",
              "      <td>allais informer disant veux siègent anciens pe...</td>\n",
              "    </tr>\n",
              "    <tr>\n",
              "      <th>11801</th>\n",
              "      <td>Mais où est-il, demanda Réouël, pourquoi l’ave...</td>\n",
              "      <td>demanda réouël laissé appelez invitez manger</td>\n",
              "    </tr>\n",
              "    <tr>\n",
              "      <th>22827</th>\n",
              "      <td>salut qui nous arrache à l’ennemi,\\nà la main ...</td>\n",
              "      <td>salut arrache ennemi main oppresseurs</td>\n",
              "    </tr>\n",
              "    <tr>\n",
              "      <th>20220</th>\n",
              "      <td>« Amen, amen, je vous le dis : celui qui entre...</td>\n",
              "      <td>amen amen dis enclos brebis passer porte escal...</td>\n",
              "    </tr>\n",
              "    <tr>\n",
              "      <th>9255</th>\n",
              "      <td>Mais nous n’avons pas écouté sa voix qui nous ...</td>\n",
              "      <td>écouté voix disait préceptes seigneur mis yeux</td>\n",
              "    </tr>\n",
              "  </tbody>\n",
              "</table>\n",
              "</div>\n",
              "      <button class=\"colab-df-convert\" onclick=\"convertToInteractive('df-716f9479-f936-43ba-b2c5-5c99eb43e473')\"\n",
              "              title=\"Convert this dataframe to an interactive table.\"\n",
              "              style=\"display:none;\">\n",
              "        \n",
              "  <svg xmlns=\"http://www.w3.org/2000/svg\" height=\"24px\"viewBox=\"0 0 24 24\"\n",
              "       width=\"24px\">\n",
              "    <path d=\"M0 0h24v24H0V0z\" fill=\"none\"/>\n",
              "    <path d=\"M18.56 5.44l.94 2.06.94-2.06 2.06-.94-2.06-.94-.94-2.06-.94 2.06-2.06.94zm-11 1L8.5 8.5l.94-2.06 2.06-.94-2.06-.94L8.5 2.5l-.94 2.06-2.06.94zm10 10l.94 2.06.94-2.06 2.06-.94-2.06-.94-.94-2.06-.94 2.06-2.06.94z\"/><path d=\"M17.41 7.96l-1.37-1.37c-.4-.4-.92-.59-1.43-.59-.52 0-1.04.2-1.43.59L10.3 9.45l-7.72 7.72c-.78.78-.78 2.05 0 2.83L4 21.41c.39.39.9.59 1.41.59.51 0 1.02-.2 1.41-.59l7.78-7.78 2.81-2.81c.8-.78.8-2.07 0-2.86zM5.41 20L4 18.59l7.72-7.72 1.47 1.35L5.41 20z\"/>\n",
              "  </svg>\n",
              "      </button>\n",
              "      \n",
              "  <style>\n",
              "    .colab-df-container {\n",
              "      display:flex;\n",
              "      flex-wrap:wrap;\n",
              "      gap: 12px;\n",
              "    }\n",
              "\n",
              "    .colab-df-convert {\n",
              "      background-color: #E8F0FE;\n",
              "      border: none;\n",
              "      border-radius: 50%;\n",
              "      cursor: pointer;\n",
              "      display: none;\n",
              "      fill: #1967D2;\n",
              "      height: 32px;\n",
              "      padding: 0 0 0 0;\n",
              "      width: 32px;\n",
              "    }\n",
              "\n",
              "    .colab-df-convert:hover {\n",
              "      background-color: #E2EBFA;\n",
              "      box-shadow: 0px 1px 2px rgba(60, 64, 67, 0.3), 0px 1px 3px 1px rgba(60, 64, 67, 0.15);\n",
              "      fill: #174EA6;\n",
              "    }\n",
              "\n",
              "    [theme=dark] .colab-df-convert {\n",
              "      background-color: #3B4455;\n",
              "      fill: #D2E3FC;\n",
              "    }\n",
              "\n",
              "    [theme=dark] .colab-df-convert:hover {\n",
              "      background-color: #434B5C;\n",
              "      box-shadow: 0px 1px 3px 1px rgba(0, 0, 0, 0.15);\n",
              "      filter: drop-shadow(0px 1px 2px rgba(0, 0, 0, 0.3));\n",
              "      fill: #FFFFFF;\n",
              "    }\n",
              "  </style>\n",
              "\n",
              "      <script>\n",
              "        const buttonEl =\n",
              "          document.querySelector('#df-716f9479-f936-43ba-b2c5-5c99eb43e473 button.colab-df-convert');\n",
              "        buttonEl.style.display =\n",
              "          google.colab.kernel.accessAllowed ? 'block' : 'none';\n",
              "\n",
              "        async function convertToInteractive(key) {\n",
              "          const element = document.querySelector('#df-716f9479-f936-43ba-b2c5-5c99eb43e473');\n",
              "          const dataTable =\n",
              "            await google.colab.kernel.invokeFunction('convertToInteractive',\n",
              "                                                     [key], {});\n",
              "          if (!dataTable) return;\n",
              "\n",
              "          const docLinkHtml = 'Like what you see? Visit the ' +\n",
              "            '<a target=\"_blank\" href=https://colab.research.google.com/notebooks/data_table.ipynb>data table notebook</a>'\n",
              "            + ' to learn more about interactive tables.';\n",
              "          element.innerHTML = '';\n",
              "          dataTable['output_type'] = 'display_data';\n",
              "          await google.colab.output.renderOutput(dataTable, element);\n",
              "          const docLink = document.createElement('div');\n",
              "          docLink.innerHTML = docLinkHtml;\n",
              "          element.appendChild(docLink);\n",
              "        }\n",
              "      </script>\n",
              "    </div>\n",
              "  </div>\n",
              "  "
            ],
            "text/plain": [
              "                                                   TEXTE                                        TEXTE_CLEAN\n",
              "32984  Et moi, je me suis dit que j’allais t’en infor...  allais informer disant veux siègent anciens pe...\n",
              "11801  Mais où est-il, demanda Réouël, pourquoi l’ave...       demanda réouël laissé appelez invitez manger\n",
              "22827  salut qui nous arrache à l’ennemi,\\nà la main ...              salut arrache ennemi main oppresseurs\n",
              "20220  « Amen, amen, je vous le dis : celui qui entre...  amen amen dis enclos brebis passer porte escal...\n",
              "9255   Mais nous n’avons pas écouté sa voix qui nous ...     écouté voix disait préceptes seigneur mis yeux"
            ]
          },
          "metadata": {},
          "execution_count": 6
        }
      ]
    },
    {
      "cell_type": "markdown",
      "source": [
        "## Etude de fréquences de mots"
      ],
      "metadata": {
        "id": "arDOFB__jwkX"
      }
    },
    {
      "cell_type": "markdown",
      "source": [
        "Les données étant à la granularité du verset, on procède au regroupement des textes par Livre"
      ],
      "metadata": {
        "id": "qmZ__PwQMGnB"
      }
    },
    {
      "cell_type": "code",
      "source": [
        "df_livres = data.groupby(['TESTAMENT', 'LIVRE', 'CODE_LIVRE'], as_index=False)['TEXTE_CLEAN'].apply(' '.join)\n",
        "df_livres.sample(5)"
      ],
      "metadata": {
        "id": "RctJYNhvxGDR",
        "colab": {
          "base_uri": "https://localhost:8080/",
          "height": 206
        },
        "outputId": "1b29bf51-7b90-40bc-d4dc-3baafe5bf00d"
      },
      "execution_count": 7,
      "outputs": [
        {
          "output_type": "execute_result",
          "data": {
            "text/html": [
              "\n",
              "  <div id=\"df-b4af8ccb-988f-4644-adea-1a4359851f9f\">\n",
              "    <div class=\"colab-df-container\">\n",
              "      <div>\n",
              "<style scoped>\n",
              "    .dataframe tbody tr th:only-of-type {\n",
              "        vertical-align: middle;\n",
              "    }\n",
              "\n",
              "    .dataframe tbody tr th {\n",
              "        vertical-align: top;\n",
              "    }\n",
              "\n",
              "    .dataframe thead th {\n",
              "        text-align: right;\n",
              "    }\n",
              "</style>\n",
              "<table border=\"1\" class=\"dataframe\">\n",
              "  <thead>\n",
              "    <tr style=\"text-align: right;\">\n",
              "      <th></th>\n",
              "      <th>TESTAMENT</th>\n",
              "      <th>LIVRE</th>\n",
              "      <th>CODE_LIVRE</th>\n",
              "      <th>TEXTE_CLEAN</th>\n",
              "    </tr>\n",
              "  </thead>\n",
              "  <tbody>\n",
              "    <tr>\n",
              "      <th>53</th>\n",
              "      <td>NT</td>\n",
              "      <td>Evangile de Jésus-Christ selon saint Marc</td>\n",
              "      <td>Mc</td>\n",
              "      <td>commencement évangile jésus christ fils dieu é...</td>\n",
              "    </tr>\n",
              "    <tr>\n",
              "      <th>50</th>\n",
              "      <td>NT</td>\n",
              "      <td>Deuxième lettre de saint Pierre Apôtre</td>\n",
              "      <td>2P</td>\n",
              "      <td>symeon pierre serviteur apôtre jésus christ re...</td>\n",
              "    </tr>\n",
              "    <tr>\n",
              "      <th>70</th>\n",
              "      <td>NT</td>\n",
              "      <td>Première lettre de saint Paul Apôtre à Timothée</td>\n",
              "      <td>1Tm</td>\n",
              "      <td>paul apotre christ jésus ordre dieu sauveur ch...</td>\n",
              "    </tr>\n",
              "    <tr>\n",
              "      <th>68</th>\n",
              "      <td>NT</td>\n",
              "      <td>Première lettre de saint Paul Apôtre aux Corin...</td>\n",
              "      <td>1Co</td>\n",
              "      <td>paul appele volonté dieu apôtre christ jésus s...</td>\n",
              "    </tr>\n",
              "    <tr>\n",
              "      <th>8</th>\n",
              "      <td>AT</td>\n",
              "      <td>Livre d'Aggée</td>\n",
              "      <td>Ag</td>\n",
              "      <td>deuxieme annee règne darius jour mois seigneur...</td>\n",
              "    </tr>\n",
              "  </tbody>\n",
              "</table>\n",
              "</div>\n",
              "      <button class=\"colab-df-convert\" onclick=\"convertToInteractive('df-b4af8ccb-988f-4644-adea-1a4359851f9f')\"\n",
              "              title=\"Convert this dataframe to an interactive table.\"\n",
              "              style=\"display:none;\">\n",
              "        \n",
              "  <svg xmlns=\"http://www.w3.org/2000/svg\" height=\"24px\"viewBox=\"0 0 24 24\"\n",
              "       width=\"24px\">\n",
              "    <path d=\"M0 0h24v24H0V0z\" fill=\"none\"/>\n",
              "    <path d=\"M18.56 5.44l.94 2.06.94-2.06 2.06-.94-2.06-.94-.94-2.06-.94 2.06-2.06.94zm-11 1L8.5 8.5l.94-2.06 2.06-.94-2.06-.94L8.5 2.5l-.94 2.06-2.06.94zm10 10l.94 2.06.94-2.06 2.06-.94-2.06-.94-.94-2.06-.94 2.06-2.06.94z\"/><path d=\"M17.41 7.96l-1.37-1.37c-.4-.4-.92-.59-1.43-.59-.52 0-1.04.2-1.43.59L10.3 9.45l-7.72 7.72c-.78.78-.78 2.05 0 2.83L4 21.41c.39.39.9.59 1.41.59.51 0 1.02-.2 1.41-.59l7.78-7.78 2.81-2.81c.8-.78.8-2.07 0-2.86zM5.41 20L4 18.59l7.72-7.72 1.47 1.35L5.41 20z\"/>\n",
              "  </svg>\n",
              "      </button>\n",
              "      \n",
              "  <style>\n",
              "    .colab-df-container {\n",
              "      display:flex;\n",
              "      flex-wrap:wrap;\n",
              "      gap: 12px;\n",
              "    }\n",
              "\n",
              "    .colab-df-convert {\n",
              "      background-color: #E8F0FE;\n",
              "      border: none;\n",
              "      border-radius: 50%;\n",
              "      cursor: pointer;\n",
              "      display: none;\n",
              "      fill: #1967D2;\n",
              "      height: 32px;\n",
              "      padding: 0 0 0 0;\n",
              "      width: 32px;\n",
              "    }\n",
              "\n",
              "    .colab-df-convert:hover {\n",
              "      background-color: #E2EBFA;\n",
              "      box-shadow: 0px 1px 2px rgba(60, 64, 67, 0.3), 0px 1px 3px 1px rgba(60, 64, 67, 0.15);\n",
              "      fill: #174EA6;\n",
              "    }\n",
              "\n",
              "    [theme=dark] .colab-df-convert {\n",
              "      background-color: #3B4455;\n",
              "      fill: #D2E3FC;\n",
              "    }\n",
              "\n",
              "    [theme=dark] .colab-df-convert:hover {\n",
              "      background-color: #434B5C;\n",
              "      box-shadow: 0px 1px 3px 1px rgba(0, 0, 0, 0.15);\n",
              "      filter: drop-shadow(0px 1px 2px rgba(0, 0, 0, 0.3));\n",
              "      fill: #FFFFFF;\n",
              "    }\n",
              "  </style>\n",
              "\n",
              "      <script>\n",
              "        const buttonEl =\n",
              "          document.querySelector('#df-b4af8ccb-988f-4644-adea-1a4359851f9f button.colab-df-convert');\n",
              "        buttonEl.style.display =\n",
              "          google.colab.kernel.accessAllowed ? 'block' : 'none';\n",
              "\n",
              "        async function convertToInteractive(key) {\n",
              "          const element = document.querySelector('#df-b4af8ccb-988f-4644-adea-1a4359851f9f');\n",
              "          const dataTable =\n",
              "            await google.colab.kernel.invokeFunction('convertToInteractive',\n",
              "                                                     [key], {});\n",
              "          if (!dataTable) return;\n",
              "\n",
              "          const docLinkHtml = 'Like what you see? Visit the ' +\n",
              "            '<a target=\"_blank\" href=https://colab.research.google.com/notebooks/data_table.ipynb>data table notebook</a>'\n",
              "            + ' to learn more about interactive tables.';\n",
              "          element.innerHTML = '';\n",
              "          dataTable['output_type'] = 'display_data';\n",
              "          await google.colab.output.renderOutput(dataTable, element);\n",
              "          const docLink = document.createElement('div');\n",
              "          docLink.innerHTML = docLinkHtml;\n",
              "          element.appendChild(docLink);\n",
              "        }\n",
              "      </script>\n",
              "    </div>\n",
              "  </div>\n",
              "  "
            ],
            "text/plain": [
              "   TESTAMENT  ...                                        TEXTE_CLEAN\n",
              "53        NT  ...  commencement évangile jésus christ fils dieu é...\n",
              "50        NT  ...  symeon pierre serviteur apôtre jésus christ re...\n",
              "70        NT  ...  paul apotre christ jésus ordre dieu sauveur ch...\n",
              "68        NT  ...  paul appele volonté dieu apôtre christ jésus s...\n",
              "8         AT  ...  deuxieme annee règne darius jour mois seigneur...\n",
              "\n",
              "[5 rows x 4 columns]"
            ]
          },
          "metadata": {},
          "execution_count": 7
        }
      ]
    },
    {
      "cell_type": "code",
      "source": [
        "def return_most_frequent(txt, n_most_frequent=5):\n",
        "  most_frequent= pd.Series(txt.split()).value_counts()[:n_most_frequent].to_dict()\n",
        "  return dict(sorted(most_frequent.items(), key=lambda item: item[1], reverse=True))\n",
        "\n",
        "\n",
        "df_livres['MOST_FREQUENT_TERMS'] = df_livres['TEXTE_CLEAN'].apply(return_most_frequent, n_most_frequent=10)\n",
        "\n",
        "df_livres[['LIVRE', 'MOST_FREQUENT_TERMS']]"
      ],
      "metadata": {
        "id": "8VtsR2haQ9-x",
        "colab": {
          "base_uri": "https://localhost:8080/",
          "height": 655
        },
        "outputId": "d01c4494-b702-4c4e-dc01-9845a7f81a5e"
      },
      "execution_count": 9,
      "outputs": [
        {
          "output_type": "execute_result",
          "data": {
            "text/html": [
              "\n",
              "  <div id=\"df-5ff44872-fac1-4014-94fb-e2b941744b92\">\n",
              "    <div class=\"colab-df-container\">\n",
              "      <div>\n",
              "<style scoped>\n",
              "    .dataframe tbody tr th:only-of-type {\n",
              "        vertical-align: middle;\n",
              "    }\n",
              "\n",
              "    .dataframe tbody tr th {\n",
              "        vertical-align: top;\n",
              "    }\n",
              "\n",
              "    .dataframe thead th {\n",
              "        text-align: right;\n",
              "    }\n",
              "</style>\n",
              "<table border=\"1\" class=\"dataframe\">\n",
              "  <thead>\n",
              "    <tr style=\"text-align: right;\">\n",
              "      <th></th>\n",
              "      <th>LIVRE</th>\n",
              "      <th>MOST_FREQUENT_TERMS</th>\n",
              "    </tr>\n",
              "  </thead>\n",
              "  <tbody>\n",
              "    <tr>\n",
              "      <th>0</th>\n",
              "      <td>Cantique des cantiques</td>\n",
              "      <td>{'aimé': 33, 'ur': 23, 'belle': 14, 'filles': ...</td>\n",
              "    </tr>\n",
              "    <tr>\n",
              "      <th>1</th>\n",
              "      <td>Deuxième Livre des Martyrs d'Israël</td>\n",
              "      <td>{'roi': 80, 'judas': 72, 'juifs': 63, 'dieu': ...</td>\n",
              "    </tr>\n",
              "    <tr>\n",
              "      <th>2</th>\n",
              "      <td>Deuxième livre de Samuel</td>\n",
              "      <td>{'roi': 269, 'david': 263, 'seigneur': 191, 'f...</td>\n",
              "    </tr>\n",
              "    <tr>\n",
              "      <th>3</th>\n",
              "      <td>Deuxième livre des Chroniques</td>\n",
              "      <td>{'seigneur': 401, 'roi': 275, 'maison': 200, '...</td>\n",
              "    </tr>\n",
              "    <tr>\n",
              "      <th>4</th>\n",
              "      <td>Deuxième livre des Rois</td>\n",
              "      <td>{'roi': 371, 'seigneur': 293, 'fils': 187, 'is...</td>\n",
              "    </tr>\n",
              "    <tr>\n",
              "      <th>...</th>\n",
              "      <td>...</td>\n",
              "      <td>...</td>\n",
              "    </tr>\n",
              "    <tr>\n",
              "      <th>69</th>\n",
              "      <td>Première lettre de saint Paul Apôtre aux Thess...</td>\n",
              "      <td>{'dieu': 37, 'seigneur': 25, 'frères': 17, 'jé...</td>\n",
              "    </tr>\n",
              "    <tr>\n",
              "      <th>70</th>\n",
              "      <td>Première lettre de saint Paul Apôtre à Timothée</td>\n",
              "      <td>{'dieu': 25, 'foi': 25, 'christ': 16, 'jésus':...</td>\n",
              "    </tr>\n",
              "    <tr>\n",
              "      <th>71</th>\n",
              "      <td>Première lettre de saint Pierre Apôtre</td>\n",
              "      <td>{'dieu': 45, 'christ': 22, 'gloire': 13, 'grâc...</td>\n",
              "    </tr>\n",
              "    <tr>\n",
              "      <th>72</th>\n",
              "      <td>Troisième lettre de saint Jean</td>\n",
              "      <td>{'vérité': 6, 'témoignage': 5, 'aimé': 4, 'frè...</td>\n",
              "    </tr>\n",
              "    <tr>\n",
              "      <th>73</th>\n",
              "      <td>Livre des Psaumes</td>\n",
              "      <td>{'seigneur': 747, 'dieu': 453, 'terre': 162, '...</td>\n",
              "    </tr>\n",
              "  </tbody>\n",
              "</table>\n",
              "<p>74 rows × 2 columns</p>\n",
              "</div>\n",
              "      <button class=\"colab-df-convert\" onclick=\"convertToInteractive('df-5ff44872-fac1-4014-94fb-e2b941744b92')\"\n",
              "              title=\"Convert this dataframe to an interactive table.\"\n",
              "              style=\"display:none;\">\n",
              "        \n",
              "  <svg xmlns=\"http://www.w3.org/2000/svg\" height=\"24px\"viewBox=\"0 0 24 24\"\n",
              "       width=\"24px\">\n",
              "    <path d=\"M0 0h24v24H0V0z\" fill=\"none\"/>\n",
              "    <path d=\"M18.56 5.44l.94 2.06.94-2.06 2.06-.94-2.06-.94-.94-2.06-.94 2.06-2.06.94zm-11 1L8.5 8.5l.94-2.06 2.06-.94-2.06-.94L8.5 2.5l-.94 2.06-2.06.94zm10 10l.94 2.06.94-2.06 2.06-.94-2.06-.94-.94-2.06-.94 2.06-2.06.94z\"/><path d=\"M17.41 7.96l-1.37-1.37c-.4-.4-.92-.59-1.43-.59-.52 0-1.04.2-1.43.59L10.3 9.45l-7.72 7.72c-.78.78-.78 2.05 0 2.83L4 21.41c.39.39.9.59 1.41.59.51 0 1.02-.2 1.41-.59l7.78-7.78 2.81-2.81c.8-.78.8-2.07 0-2.86zM5.41 20L4 18.59l7.72-7.72 1.47 1.35L5.41 20z\"/>\n",
              "  </svg>\n",
              "      </button>\n",
              "      \n",
              "  <style>\n",
              "    .colab-df-container {\n",
              "      display:flex;\n",
              "      flex-wrap:wrap;\n",
              "      gap: 12px;\n",
              "    }\n",
              "\n",
              "    .colab-df-convert {\n",
              "      background-color: #E8F0FE;\n",
              "      border: none;\n",
              "      border-radius: 50%;\n",
              "      cursor: pointer;\n",
              "      display: none;\n",
              "      fill: #1967D2;\n",
              "      height: 32px;\n",
              "      padding: 0 0 0 0;\n",
              "      width: 32px;\n",
              "    }\n",
              "\n",
              "    .colab-df-convert:hover {\n",
              "      background-color: #E2EBFA;\n",
              "      box-shadow: 0px 1px 2px rgba(60, 64, 67, 0.3), 0px 1px 3px 1px rgba(60, 64, 67, 0.15);\n",
              "      fill: #174EA6;\n",
              "    }\n",
              "\n",
              "    [theme=dark] .colab-df-convert {\n",
              "      background-color: #3B4455;\n",
              "      fill: #D2E3FC;\n",
              "    }\n",
              "\n",
              "    [theme=dark] .colab-df-convert:hover {\n",
              "      background-color: #434B5C;\n",
              "      box-shadow: 0px 1px 3px 1px rgba(0, 0, 0, 0.15);\n",
              "      filter: drop-shadow(0px 1px 2px rgba(0, 0, 0, 0.3));\n",
              "      fill: #FFFFFF;\n",
              "    }\n",
              "  </style>\n",
              "\n",
              "      <script>\n",
              "        const buttonEl =\n",
              "          document.querySelector('#df-5ff44872-fac1-4014-94fb-e2b941744b92 button.colab-df-convert');\n",
              "        buttonEl.style.display =\n",
              "          google.colab.kernel.accessAllowed ? 'block' : 'none';\n",
              "\n",
              "        async function convertToInteractive(key) {\n",
              "          const element = document.querySelector('#df-5ff44872-fac1-4014-94fb-e2b941744b92');\n",
              "          const dataTable =\n",
              "            await google.colab.kernel.invokeFunction('convertToInteractive',\n",
              "                                                     [key], {});\n",
              "          if (!dataTable) return;\n",
              "\n",
              "          const docLinkHtml = 'Like what you see? Visit the ' +\n",
              "            '<a target=\"_blank\" href=https://colab.research.google.com/notebooks/data_table.ipynb>data table notebook</a>'\n",
              "            + ' to learn more about interactive tables.';\n",
              "          element.innerHTML = '';\n",
              "          dataTable['output_type'] = 'display_data';\n",
              "          await google.colab.output.renderOutput(dataTable, element);\n",
              "          const docLink = document.createElement('div');\n",
              "          docLink.innerHTML = docLinkHtml;\n",
              "          element.appendChild(docLink);\n",
              "        }\n",
              "      </script>\n",
              "    </div>\n",
              "  </div>\n",
              "  "
            ],
            "text/plain": [
              "                                                LIVRE                                MOST_FREQUENT_TERMS\n",
              "0                              Cantique des cantiques  {'aimé': 33, 'ur': 23, 'belle': 14, 'filles': ...\n",
              "1                 Deuxième Livre des Martyrs d'Israël  {'roi': 80, 'judas': 72, 'juifs': 63, 'dieu': ...\n",
              "2                            Deuxième livre de Samuel  {'roi': 269, 'david': 263, 'seigneur': 191, 'f...\n",
              "3                       Deuxième livre des Chroniques  {'seigneur': 401, 'roi': 275, 'maison': 200, '...\n",
              "4                             Deuxième livre des Rois  {'roi': 371, 'seigneur': 293, 'fils': 187, 'is...\n",
              "..                                                ...                                                ...\n",
              "69  Première lettre de saint Paul Apôtre aux Thess...  {'dieu': 37, 'seigneur': 25, 'frères': 17, 'jé...\n",
              "70    Première lettre de saint Paul Apôtre à Timothée  {'dieu': 25, 'foi': 25, 'christ': 16, 'jésus':...\n",
              "71             Première lettre de saint Pierre Apôtre  {'dieu': 45, 'christ': 22, 'gloire': 13, 'grâc...\n",
              "72                     Troisième lettre de saint Jean  {'vérité': 6, 'témoignage': 5, 'aimé': 4, 'frè...\n",
              "73                                  Livre des Psaumes  {'seigneur': 747, 'dieu': 453, 'terre': 162, '...\n",
              "\n",
              "[74 rows x 2 columns]"
            ]
          },
          "metadata": {},
          "execution_count": 9
        }
      ]
    },
    {
      "cell_type": "markdown",
      "source": [
        "L'analyse des occurences de mots nous donne quelques éclairages intéressants.\n",
        "Par exemple, dans le [Cantique des cantiques](https://fr.wikipedia.org/wiki/Cantique_des_Cantiques), les mots 'amour' et 'aimé' sont les plus présents !\n",
        "\n",
        "Jésus est bien le protagoniste principal des évangiles avec des associations intéressantes comme **Jésus/Père/Dieu** chez Jean et **Jésus/Fils/Dieu** chez Luc. Alors que chez Marc et Mathieu, c'est **Jésus/Homme** qui est en tête."
      ],
      "metadata": {
        "id": "dnUwA6Jjy1re"
      }
    },
    {
      "cell_type": "markdown",
      "source": [
        "# Visualisation"
      ],
      "metadata": {
        "id": "2rV26teDv5Ry"
      }
    },
    {
      "cell_type": "markdown",
      "source": [
        "## Vectorisation\n",
        "\n",
        "La vectorisation consiste à transformer un texte en une représentation matricielle ayant pour colonnes les mots de vocabulaire présents dans le texte.\n",
        "Ex :\n",
        "\n",
        "| Texte                         | aime | les | pommes | poires | deteste | et |\n",
        "|-------------------------------|:----:|:---:|:------:|--------|---------|----|\n",
        "| aime les pommes               | 1    | 1   | 1      | 0      | 0       | 0  |\n",
        "| aime les poires et les poires | 1    | 2   | 0      | 2      | 0       | 1  |\n",
        "| déteste les pommes            | 0    | 1   | 1      | 0      | 1       | 0  |\n",
        "\n",
        "On obtient ainsi une matrice contenant autant de lignes que de texte et autant de colonnes que de mots présents dans les textes.\n",
        "\n",
        "Nous utiliserons la fonction [TfidfVectorizer](https://scikit-learn.org/stable/modules/generated/sklearn.feature_extraction.text.TfidfVectorizer.html) de la librairie sklearn.\n",
        "Cette transformation va plus [loin](https://scikit-learn.org/stable/modules/feature_extraction.html#tfidf-term-weighting) qu'un simple comptage d'occurence en donnant plus ou moins d'importance aux mots selon leur fréquence d'apparition"
      ],
      "metadata": {
        "id": "W6yUUVvDI6dw"
      }
    },
    {
      "cell_type": "code",
      "source": [
        "from sklearn.feature_extraction.text import TfidfVectorizer\n",
        "from sklearn.metrics.pairwise import cosine_similarity\n",
        "\n",
        "tf_idf_mod = TfidfVectorizer(ngram_range=(1,2))\n",
        "vec_res = tf_idf_mod.fit_transform(df_livres['TEXTE_CLEAN']).toarray()"
      ],
      "metadata": {
        "id": "ly5Vd1Am31ZF"
      },
      "execution_count": 10,
      "outputs": []
    },
    {
      "cell_type": "code",
      "source": [
        "vec_res.shape"
      ],
      "metadata": {
        "colab": {
          "base_uri": "https://localhost:8080/"
        },
        "id": "skFfRk5RpcnP",
        "outputId": "836e1e0b-f52f-4751-d0c1-5ccf06153c75"
      },
      "execution_count": 11,
      "outputs": [
        {
          "output_type": "execute_result",
          "data": {
            "text/plain": [
              "(74, 255733)"
            ]
          },
          "metadata": {},
          "execution_count": 11
        }
      ]
    },
    {
      "cell_type": "markdown",
      "source": [
        "La matrice obtenue est donc de dimension  `vec_res.shape = (74, 252512)`\n",
        "\n",
        "L'étape suivante consistera à réduire cette dimension afin de pouvoir visualiser notre corpus\n",
        "\n"
      ],
      "metadata": {
        "id": "7iKnt6PVvXW9"
      }
    },
    {
      "cell_type": "markdown",
      "source": [
        "## Réduction de dimension et visualisation"
      ],
      "metadata": {
        "id": "QTqBmf0rkGMn"
      }
    },
    {
      "cell_type": "code",
      "source": [
        "from sklearn.decomposition import PCA\n",
        "import seaborn as sns\n",
        "import matplotlib.pyplot as plt"
      ],
      "metadata": {
        "id": "qyILlaoj7Egs"
      },
      "execution_count": 13,
      "outputs": []
    },
    {
      "cell_type": "markdown",
      "source": [
        "Une des méthodes les plus courantes de réduction de dimension est l'[analyse en composantes principales](https://fr.wikipedia.org/wiki/Analyse_en_composantes_principales)"
      ],
      "metadata": {
        "id": "fvHlalphJFnJ"
      }
    },
    {
      "cell_type": "code",
      "source": [
        "pca_mod = PCA(n_components=2)\n",
        "X = pca_mod.fit_transform(vec_res)\n",
        "\n",
        "df_livres_vectorized = pd.DataFrame({\n",
        "    'testament' : df_livres['TESTAMENT'],\n",
        "    'code_livre': df_livres['CODE_LIVRE'],\n",
        "    'dim_0' : X[:,0],\n",
        "    'dim_1' : X[:,1]})\n",
        "\n",
        "plt.figure(figsize=(12,8))#, dpi=300)\n",
        "sns.set_style(\"darkgrid\")\n",
        "\n",
        "g = sns.scatterplot(data=df_livres_vectorized, x='dim_0', y='dim_1', hue = 'testament', style=\"testament\")\n",
        "g.legend(facecolor = 'white')\n",
        "g.set_title(\"Représentation 2D des livres de la Bible\")\n",
        "\n",
        "for i, txt in enumerate(df_livres_vectorized['code_livre']):\n",
        "  g.annotate(s=txt, \n",
        "             xy=(df_livres_vectorized.loc[i, 'dim_0']+0.01, df_livres_vectorized.loc[i, 'dim_1']-0.01))"
      ],
      "metadata": {
        "id": "awv4D5tbDaOg",
        "colab": {
          "base_uri": "https://localhost:8080/",
          "height": 514
        },
        "outputId": "77539859-07af-4faf-d957-4f5f06c82751"
      },
      "execution_count": 14,
      "outputs": [
        {
          "output_type": "display_data",
          "data": {
            "image/png": "[encoded data removed]",
            "text/plain": [
              "<Figure size 864x576 with 1 Axes>"
            ]
          },
          "metadata": {
            "needs_background": "light"
          }
        }
      ]
    },
    {
      "cell_type": "markdown",
      "source": [
        "La visualisation graphique basée uniquement sur le contenu des texte est riche d'enseignements.\n",
        "* La distinction Ancient Testament / Nouveau testament est très marquée.\n",
        "* Au sein du groupe du Nouveau Testament, 2 groupes principaux\n",
        " * les 4 évangiles\n",
        " * Les lettres\n",
        "* Le livre de l'Apocalypse est le livre du NT qui se rapproche le plus du groupe de l'AT.\n",
        "* Les Actes des Apôtres, qui n'est ni un récit de la vie du Christ comme les Evangiles, ni un ensemble d'exhortations comme les Lettres, se retrouve isolé.\n"
      ],
      "metadata": {
        "id": "zY5IBkyEw04_"
      }
    },
    {
      "cell_type": "markdown",
      "source": [
        "# Moteur de recommandation biblique"
      ],
      "metadata": {
        "id": "OY_BXi2ywEMl"
      }
    },
    {
      "cell_type": "markdown",
      "source": [
        "## Vectorisation par vecteurs Spacy\n",
        "\n",
        "Nous avons vu plus haut qu'il est indispensable de transformer les textes en vecteurs numériques pour pouvoir les utiliser dans les algorithmes de traitement de données. Alors que nous avions utilisé la méthode Td-Idf, nous allons maintenant associer à chaque texte un vecteur calculé au préalable sur un [corpus](https://spacy.io/models/fr#fr_core_news_lg) d'articles de journaux.\n",
        "Dans le model fr_core_news_lg proposé par la library spaCy, 500k vecteurs de dimension 300 sont mis à disposition, correspondant à 500k mots.\n",
        "\n",
        "Chaque verset sera donc associé à un vecteur de dimension 300. Le vecteur d'un verset étant la moyenne des vecteurs des mots qui le composent.\n",
        "\n",
        "Le principe du moteur de recommandation sera le suivant ↙\n",
        "- Entrée d'un texte par l'utilisateur (quelques mots suffisent)\n",
        "- Attribution d'un vecteur à ce texte\n",
        "- Identification et présentation des versets les plus proches"
      ],
      "metadata": {
        "id": "6sTp-PZF13fj"
      }
    },
    {
      "cell_type": "markdown",
      "source": [
        "Tout d'abord, une fonction permettant de trouver le vecteur spaCy d'un texte"
      ],
      "metadata": {
        "id": "XzOYDpV_8IGk"
      }
    },
    {
      "cell_type": "code",
      "source": [
        "import spacy\n",
        "import fr_core_news_md\n",
        "\n",
        "nlp = fr_core_news_md.load()\n",
        "\n",
        "def return_sentence_vector(sentence):\n",
        "  doc = nlp(sentence)\n",
        "  return doc.vector"
      ],
      "metadata": {
        "id": "KVOa96yY3vEU"
      },
      "execution_count": 15,
      "outputs": []
    },
    {
      "cell_type": "markdown",
      "source": [
        "Le corpus biblique est enrichi des vecteurs pour chacun des versets (temps de calcul environ 5 minutes).\n",
        "\n",
        "Le corpus enrichi est sauvegardé pour pouvoir être réutilisé."
      ],
      "metadata": {
        "id": "w1eCc7dt8QlF"
      }
    },
    {
      "cell_type": "code",
      "source": [
        "# dure 4-5 minutes\n",
        "vectors = data['TEXTE_CLEAN'].apply(return_sentence_vector)\n",
        "df_vectors = pd.DataFrame(data = [vec for vec in vectors], columns = ['v'+str(i) for i in range(0, len(vectors[0]))])\n",
        "\n",
        "df = pd.concat([data, df_vectors], axis=1)\n",
        "df.to_parquet('/gdrive/MyDrive/Colab Notebooks/bible_aelf_vectors.parquet.gzip',compression='gzip')"
      ],
      "metadata": {
        "id": "kLNoz1XR16_K"
      },
      "execution_count": 16,
      "outputs": []
    },
    {
      "cell_type": "markdown",
      "source": [
        "## Moteur de recommandation\n",
        "\n"
      ],
      "metadata": {
        "id": "75OSM0vIJZ2V"
      }
    },
    {
      "cell_type": "markdown",
      "source": [
        "On commence par lire le fichier de données contenant les vecteurs"
      ],
      "metadata": {
        "id": "kG_nKRZeSGgT"
      }
    },
    {
      "cell_type": "code",
      "source": [
        "data = pd.read_parquet('/gdrive/MyDrive/Colab Notebooks/bible_aelf_vectors.parquet.gzip')"
      ],
      "metadata": {
        "id": "SeWIspVa31wZ"
      },
      "execution_count": 17,
      "outputs": []
    },
    {
      "cell_type": "markdown",
      "source": [
        "La fonction ci dessous prend en paramètre une chaine de caractères, la nettoie, lui associe un vecteur spaCy et retourne les versets les plus proches au sens de la distance cosine."
      ],
      "metadata": {
        "id": "gFhzhwziSLAW"
      }
    },
    {
      "cell_type": "code",
      "source": [
        "from sklearn.metrics.pairwise import cosine_distances, euclidean_distances\n",
        "import numpy as np\n",
        "\n",
        "def propose_passage(txt, nb_proposions = 10, filter=None):\n",
        "\n",
        "  better_phrase = clean_text(txt, remove_stop_words=True)\n",
        "  vector = return_sentence_vector(better_phrase)\n",
        "  \n",
        "  if filter is not None:\n",
        "    filtered_data = data.loc[data['TESTAMENT']==filter, :].reset_index()\n",
        "    vector_subset = filtered_data.loc[:,filtered_data.columns.str.startswith('v')]\n",
        "    distances = euclidean_distances(vector.reshape((1, -1)), vector_subset).reshape(-1)\n",
        "    result = filtered_data.loc[np.argsort(distances, )[:nb_proposions], ['URL',  'VERSET','TEXTE']]\n",
        "  else:\n",
        "    vector_subset = data.loc[:, data.columns.str.startswith('v')]\n",
        "    distances = euclidean_distances(vector.reshape((1, -1)), vector_subset).reshape(-1)\n",
        "    result = data.loc[np.argsort(distances, )[:nb_proposions], ['URL',  'VERSET','TEXTE']]\n",
        "  \n",
        "  return result"
      ],
      "metadata": {
        "id": "rh4pucHwJcwd"
      },
      "execution_count": 54,
      "outputs": []
    },
    {
      "cell_type": "markdown",
      "source": [
        "Cette méthode permettant de rapprocher un texte quelconque d'un texte biblique peut avoir plusieus intérêts \n",
        "* retrouver un passage à partir d'une fraction de texte (un vieux souvenir de catéchisme par exemple ?😏)\n"
      ],
      "metadata": {
        "id": "eYRhhYQ_K1Xz"
      }
    },
    {
      "cell_type": "code",
      "source": [
        "propose_passage(\"que la lumière soit\", nb_proposions=5)"
      ],
      "metadata": {
        "colab": {
          "base_uri": "https://localhost:8080/",
          "height": 215
        },
        "id": "qHVC6EL-Hp8n",
        "outputId": "7b54dadb-e528-4aa8-8443-c9804820e0cb"
      },
      "execution_count": 55,
      "outputs": [
        {
          "output_type": "execute_result",
          "data": {
            "text/html": [
              "\n",
              "  <div id=\"df-3eb7ea87-4b03-4e2a-8f5b-a4efb6e3806a\">\n",
              "    <div class=\"colab-df-container\">\n",
              "      <div>\n",
              "<style scoped>\n",
              "    .dataframe tbody tr th:only-of-type {\n",
              "        vertical-align: middle;\n",
              "    }\n",
              "\n",
              "    .dataframe tbody tr th {\n",
              "        vertical-align: top;\n",
              "    }\n",
              "\n",
              "    .dataframe thead th {\n",
              "        text-align: right;\n",
              "    }\n",
              "</style>\n",
              "<table border=\"1\" class=\"dataframe\">\n",
              "  <thead>\n",
              "    <tr style=\"text-align: right;\">\n",
              "      <th></th>\n",
              "      <th>URL</th>\n",
              "      <th>VERSET</th>\n",
              "      <th>TEXTE</th>\n",
              "    </tr>\n",
              "  </thead>\n",
              "  <tbody>\n",
              "    <tr>\n",
              "      <th>14397</th>\n",
              "      <td>https://www.aelf.org/bible/Gn/1</td>\n",
              "      <td>03</td>\n",
              "      <td>Dieu dit :\\n« Que la lumière soit. »\\nEt la lu...</td>\n",
              "    </tr>\n",
              "    <tr>\n",
              "      <th>19791</th>\n",
              "      <td>https://www.aelf.org/bible/Jn/1</td>\n",
              "      <td>08</td>\n",
              "      <td>Cet homme n’était pas la Lumière,\\nmais il éta...</td>\n",
              "    </tr>\n",
              "    <tr>\n",
              "      <th>23304</th>\n",
              "      <td>https://www.aelf.org/bible/Lc/11</td>\n",
              "      <td>36</td>\n",
              "      <td>si ton corps tout entier est dans la lumière s...</td>\n",
              "    </tr>\n",
              "    <tr>\n",
              "      <th>30270</th>\n",
              "      <td>https://www.aelf.org/bible/Ps/35</td>\n",
              "      <td>10</td>\n",
              "      <td>En toi est la source de vie ; par ta lumière n...</td>\n",
              "    </tr>\n",
              "    <tr>\n",
              "      <th>23303</th>\n",
              "      <td>https://www.aelf.org/bible/Lc/11</td>\n",
              "      <td>35</td>\n",
              "      <td>Examine donc si la lumière qui est en toi n’es...</td>\n",
              "    </tr>\n",
              "  </tbody>\n",
              "</table>\n",
              "</div>\n",
              "      <button class=\"colab-df-convert\" onclick=\"convertToInteractive('df-3eb7ea87-4b03-4e2a-8f5b-a4efb6e3806a')\"\n",
              "              title=\"Convert this dataframe to an interactive table.\"\n",
              "              style=\"display:none;\">\n",
              "        \n",
              "  <svg xmlns=\"http://www.w3.org/2000/svg\" height=\"24px\"viewBox=\"0 0 24 24\"\n",
              "       width=\"24px\">\n",
              "    <path d=\"M0 0h24v24H0V0z\" fill=\"none\"/>\n",
              "    <path d=\"M18.56 5.44l.94 2.06.94-2.06 2.06-.94-2.06-.94-.94-2.06-.94 2.06-2.06.94zm-11 1L8.5 8.5l.94-2.06 2.06-.94-2.06-.94L8.5 2.5l-.94 2.06-2.06.94zm10 10l.94 2.06.94-2.06 2.06-.94-2.06-.94-.94-2.06-.94 2.06-2.06.94z\"/><path d=\"M17.41 7.96l-1.37-1.37c-.4-.4-.92-.59-1.43-.59-.52 0-1.04.2-1.43.59L10.3 9.45l-7.72 7.72c-.78.78-.78 2.05 0 2.83L4 21.41c.39.39.9.59 1.41.59.51 0 1.02-.2 1.41-.59l7.78-7.78 2.81-2.81c.8-.78.8-2.07 0-2.86zM5.41 20L4 18.59l7.72-7.72 1.47 1.35L5.41 20z\"/>\n",
              "  </svg>\n",
              "      </button>\n",
              "      \n",
              "  <style>\n",
              "    .colab-df-container {\n",
              "      display:flex;\n",
              "      flex-wrap:wrap;\n",
              "      gap: 12px;\n",
              "    }\n",
              "\n",
              "    .colab-df-convert {\n",
              "      background-color: #E8F0FE;\n",
              "      border: none;\n",
              "      border-radius: 50%;\n",
              "      cursor: pointer;\n",
              "      display: none;\n",
              "      fill: #1967D2;\n",
              "      height: 32px;\n",
              "      padding: 0 0 0 0;\n",
              "      width: 32px;\n",
              "    }\n",
              "\n",
              "    .colab-df-convert:hover {\n",
              "      background-color: #E2EBFA;\n",
              "      box-shadow: 0px 1px 2px rgba(60, 64, 67, 0.3), 0px 1px 3px 1px rgba(60, 64, 67, 0.15);\n",
              "      fill: #174EA6;\n",
              "    }\n",
              "\n",
              "    [theme=dark] .colab-df-convert {\n",
              "      background-color: #3B4455;\n",
              "      fill: #D2E3FC;\n",
              "    }\n",
              "\n",
              "    [theme=dark] .colab-df-convert:hover {\n",
              "      background-color: #434B5C;\n",
              "      box-shadow: 0px 1px 3px 1px rgba(0, 0, 0, 0.15);\n",
              "      filter: drop-shadow(0px 1px 2px rgba(0, 0, 0, 0.3));\n",
              "      fill: #FFFFFF;\n",
              "    }\n",
              "  </style>\n",
              "\n",
              "      <script>\n",
              "        const buttonEl =\n",
              "          document.querySelector('#df-3eb7ea87-4b03-4e2a-8f5b-a4efb6e3806a button.colab-df-convert');\n",
              "        buttonEl.style.display =\n",
              "          google.colab.kernel.accessAllowed ? 'block' : 'none';\n",
              "\n",
              "        async function convertToInteractive(key) {\n",
              "          const element = document.querySelector('#df-3eb7ea87-4b03-4e2a-8f5b-a4efb6e3806a');\n",
              "          const dataTable =\n",
              "            await google.colab.kernel.invokeFunction('convertToInteractive',\n",
              "                                                     [key], {});\n",
              "          if (!dataTable) return;\n",
              "\n",
              "          const docLinkHtml = 'Like what you see? Visit the ' +\n",
              "            '<a target=\"_blank\" href=https://colab.research.google.com/notebooks/data_table.ipynb>data table notebook</a>'\n",
              "            + ' to learn more about interactive tables.';\n",
              "          element.innerHTML = '';\n",
              "          dataTable['output_type'] = 'display_data';\n",
              "          await google.colab.output.renderOutput(dataTable, element);\n",
              "          const docLink = document.createElement('div');\n",
              "          docLink.innerHTML = docLinkHtml;\n",
              "          element.appendChild(docLink);\n",
              "        }\n",
              "      </script>\n",
              "    </div>\n",
              "  </div>\n",
              "  "
            ],
            "text/plain": [
              "                                    URL  ...                                              TEXTE\n",
              "14397   https://www.aelf.org/bible/Gn/1  ...  Dieu dit :\\n« Que la lumière soit. »\\nEt la lu...\n",
              "19791   https://www.aelf.org/bible/Jn/1  ...  Cet homme n’était pas la Lumière,\\nmais il éta...\n",
              "23304  https://www.aelf.org/bible/Lc/11  ...  si ton corps tout entier est dans la lumière s...\n",
              "30270  https://www.aelf.org/bible/Ps/35  ...  En toi est la source de vie ; par ta lumière n...\n",
              "23303  https://www.aelf.org/bible/Lc/11  ...  Examine donc si la lumière qui est en toi n’es...\n",
              "\n",
              "[5 rows x 3 columns]"
            ]
          },
          "metadata": {},
          "execution_count": 55
        }
      ]
    },
    {
      "cell_type": "markdown",
      "source": [
        "* proposer un passage de l'écriture pour accompagner une prière"
      ],
      "metadata": {
        "id": "jkZOPeDPLw71"
      }
    },
    {
      "cell_type": "code",
      "source": [
        "propose_passage(\"je voudrais guérir de ma maladie\", nb_proposions=5, filter='NT')"
      ],
      "metadata": {
        "colab": {
          "base_uri": "https://localhost:8080/",
          "height": 215
        },
        "id": "a5aXRmRELex6",
        "outputId": "611c3c8a-1022-4df1-d6e6-12b7702fbd91"
      },
      "execution_count": 56,
      "outputs": [
        {
          "output_type": "execute_result",
          "data": {
            "text/html": [
              "\n",
              "  <div id=\"df-a1e0f833-0ad1-481f-abae-82effeb97cd9\">\n",
              "    <div class=\"colab-df-container\">\n",
              "      <div>\n",
              "<style scoped>\n",
              "    .dataframe tbody tr th:only-of-type {\n",
              "        vertical-align: middle;\n",
              "    }\n",
              "\n",
              "    .dataframe tbody tr th {\n",
              "        vertical-align: top;\n",
              "    }\n",
              "\n",
              "    .dataframe thead th {\n",
              "        text-align: right;\n",
              "    }\n",
              "</style>\n",
              "<table border=\"1\" class=\"dataframe\">\n",
              "  <thead>\n",
              "    <tr style=\"text-align: right;\">\n",
              "      <th></th>\n",
              "      <th>URL</th>\n",
              "      <th>VERSET</th>\n",
              "      <th>TEXTE</th>\n",
              "    </tr>\n",
              "  </thead>\n",
              "  <tbody>\n",
              "    <tr>\n",
              "      <th>3711</th>\n",
              "      <td>https://www.aelf.org/bible/Jn/5</td>\n",
              "      <td>06</td>\n",
              "      <td>Jésus, le voyant couché là, et apprenant qu’il...</td>\n",
              "    </tr>\n",
              "    <tr>\n",
              "      <th>4766</th>\n",
              "      <td>https://www.aelf.org/bible/Lc/7</td>\n",
              "      <td>21</td>\n",
              "      <td>À cette heure-là, Jésus guérit beaucoup de gen...</td>\n",
              "    </tr>\n",
              "    <tr>\n",
              "      <th>6468</th>\n",
              "      <td>https://www.aelf.org/bible/Mt/8</td>\n",
              "      <td>02</td>\n",
              "      <td>Et voici qu’un lépreux s’approcha, se prostern...</td>\n",
              "    </tr>\n",
              "    <tr>\n",
              "      <th>6539</th>\n",
              "      <td>https://www.aelf.org/bible/Mt/10</td>\n",
              "      <td>01</td>\n",
              "      <td>Alors Jésus appela ses douze disciples et leur...</td>\n",
              "    </tr>\n",
              "    <tr>\n",
              "      <th>4688</th>\n",
              "      <td>https://www.aelf.org/bible/Lc/5</td>\n",
              "      <td>31</td>\n",
              "      <td>Jésus leur répondit : « Ce ne sont pas les gen...</td>\n",
              "    </tr>\n",
              "  </tbody>\n",
              "</table>\n",
              "</div>\n",
              "      <button class=\"colab-df-convert\" onclick=\"convertToInteractive('df-a1e0f833-0ad1-481f-abae-82effeb97cd9')\"\n",
              "              title=\"Convert this dataframe to an interactive table.\"\n",
              "              style=\"display:none;\">\n",
              "        \n",
              "  <svg xmlns=\"http://www.w3.org/2000/svg\" height=\"24px\"viewBox=\"0 0 24 24\"\n",
              "       width=\"24px\">\n",
              "    <path d=\"M0 0h24v24H0V0z\" fill=\"none\"/>\n",
              "    <path d=\"M18.56 5.44l.94 2.06.94-2.06 2.06-.94-2.06-.94-.94-2.06-.94 2.06-2.06.94zm-11 1L8.5 8.5l.94-2.06 2.06-.94-2.06-.94L8.5 2.5l-.94 2.06-2.06.94zm10 10l.94 2.06.94-2.06 2.06-.94-2.06-.94-.94-2.06-.94 2.06-2.06.94z\"/><path d=\"M17.41 7.96l-1.37-1.37c-.4-.4-.92-.59-1.43-.59-.52 0-1.04.2-1.43.59L10.3 9.45l-7.72 7.72c-.78.78-.78 2.05 0 2.83L4 21.41c.39.39.9.59 1.41.59.51 0 1.02-.2 1.41-.59l7.78-7.78 2.81-2.81c.8-.78.8-2.07 0-2.86zM5.41 20L4 18.59l7.72-7.72 1.47 1.35L5.41 20z\"/>\n",
              "  </svg>\n",
              "      </button>\n",
              "      \n",
              "  <style>\n",
              "    .colab-df-container {\n",
              "      display:flex;\n",
              "      flex-wrap:wrap;\n",
              "      gap: 12px;\n",
              "    }\n",
              "\n",
              "    .colab-df-convert {\n",
              "      background-color: #E8F0FE;\n",
              "      border: none;\n",
              "      border-radius: 50%;\n",
              "      cursor: pointer;\n",
              "      display: none;\n",
              "      fill: #1967D2;\n",
              "      height: 32px;\n",
              "      padding: 0 0 0 0;\n",
              "      width: 32px;\n",
              "    }\n",
              "\n",
              "    .colab-df-convert:hover {\n",
              "      background-color: #E2EBFA;\n",
              "      box-shadow: 0px 1px 2px rgba(60, 64, 67, 0.3), 0px 1px 3px 1px rgba(60, 64, 67, 0.15);\n",
              "      fill: #174EA6;\n",
              "    }\n",
              "\n",
              "    [theme=dark] .colab-df-convert {\n",
              "      background-color: #3B4455;\n",
              "      fill: #D2E3FC;\n",
              "    }\n",
              "\n",
              "    [theme=dark] .colab-df-convert:hover {\n",
              "      background-color: #434B5C;\n",
              "      box-shadow: 0px 1px 3px 1px rgba(0, 0, 0, 0.15);\n",
              "      filter: drop-shadow(0px 1px 2px rgba(0, 0, 0, 0.3));\n",
              "      fill: #FFFFFF;\n",
              "    }\n",
              "  </style>\n",
              "\n",
              "      <script>\n",
              "        const buttonEl =\n",
              "          document.querySelector('#df-a1e0f833-0ad1-481f-abae-82effeb97cd9 button.colab-df-convert');\n",
              "        buttonEl.style.display =\n",
              "          google.colab.kernel.accessAllowed ? 'block' : 'none';\n",
              "\n",
              "        async function convertToInteractive(key) {\n",
              "          const element = document.querySelector('#df-a1e0f833-0ad1-481f-abae-82effeb97cd9');\n",
              "          const dataTable =\n",
              "            await google.colab.kernel.invokeFunction('convertToInteractive',\n",
              "                                                     [key], {});\n",
              "          if (!dataTable) return;\n",
              "\n",
              "          const docLinkHtml = 'Like what you see? Visit the ' +\n",
              "            '<a target=\"_blank\" href=https://colab.research.google.com/notebooks/data_table.ipynb>data table notebook</a>'\n",
              "            + ' to learn more about interactive tables.';\n",
              "          element.innerHTML = '';\n",
              "          dataTable['output_type'] = 'display_data';\n",
              "          await google.colab.output.renderOutput(dataTable, element);\n",
              "          const docLink = document.createElement('div');\n",
              "          docLink.innerHTML = docLinkHtml;\n",
              "          element.appendChild(docLink);\n",
              "        }\n",
              "      </script>\n",
              "    </div>\n",
              "  </div>\n",
              "  "
            ],
            "text/plain": [
              "                                   URL  ...                                              TEXTE\n",
              "3711   https://www.aelf.org/bible/Jn/5  ...  Jésus, le voyant couché là, et apprenant qu’il...\n",
              "4766   https://www.aelf.org/bible/Lc/7  ...  À cette heure-là, Jésus guérit beaucoup de gen...\n",
              "6468   https://www.aelf.org/bible/Mt/8  ...  Et voici qu’un lépreux s’approcha, se prostern...\n",
              "6539  https://www.aelf.org/bible/Mt/10  ...  Alors Jésus appela ses douze disciples et leur...\n",
              "4688   https://www.aelf.org/bible/Lc/5  ...  Jésus leur répondit : « Ce ne sont pas les gen...\n",
              "\n",
              "[5 rows x 3 columns]"
            ]
          },
          "metadata": {},
          "execution_count": 56
        }
      ]
    },
    {
      "cell_type": "markdown",
      "source": [
        "* trouver une référence biblique à une phrase connue"
      ],
      "metadata": {
        "id": "LIvXSGRTWE5L"
      }
    },
    {
      "cell_type": "code",
      "source": [
        "propose_passage(\"l'argent ne fait pas le bonheur\", nb_proposions=5, filter = 'NT')"
      ],
      "metadata": {
        "colab": {
          "base_uri": "https://localhost:8080/",
          "height": 215
        },
        "id": "85mmFZVbTx1k",
        "outputId": "645a90db-8583-4a6a-d08a-4cb5808244f1"
      },
      "execution_count": 57,
      "outputs": [
        {
          "output_type": "execute_result",
          "data": {
            "text/html": [
              "\n",
              "  <div id=\"df-786918ae-691c-4f36-9751-a709661b1676\">\n",
              "    <div class=\"colab-df-container\">\n",
              "      <div>\n",
              "<style scoped>\n",
              "    .dataframe tbody tr th:only-of-type {\n",
              "        vertical-align: middle;\n",
              "    }\n",
              "\n",
              "    .dataframe tbody tr th {\n",
              "        vertical-align: top;\n",
              "    }\n",
              "\n",
              "    .dataframe thead th {\n",
              "        text-align: right;\n",
              "    }\n",
              "</style>\n",
              "<table border=\"1\" class=\"dataframe\">\n",
              "  <thead>\n",
              "    <tr style=\"text-align: right;\">\n",
              "      <th></th>\n",
              "      <th>URL</th>\n",
              "      <th>VERSET</th>\n",
              "      <th>TEXTE</th>\n",
              "    </tr>\n",
              "  </thead>\n",
              "  <tbody>\n",
              "    <tr>\n",
              "      <th>1596</th>\n",
              "      <td>https://www.aelf.org/bible/Ac/8</td>\n",
              "      <td>20</td>\n",
              "      <td>Pierre lui dit : « Périsse ton argent, et toi ...</td>\n",
              "    </tr>\n",
              "    <tr>\n",
              "      <th>7181</th>\n",
              "      <td>https://www.aelf.org/bible/Mt/26</td>\n",
              "      <td>09</td>\n",
              "      <td>On aurait pu, en effet, vendre ce parfum pour ...</td>\n",
              "    </tr>\n",
              "    <tr>\n",
              "      <th>5181</th>\n",
              "      <td>https://www.aelf.org/bible/Lc/16</td>\n",
              "      <td>11</td>\n",
              "      <td>Si donc vous n’avez pas été dignes de confianc...</td>\n",
              "    </tr>\n",
              "    <tr>\n",
              "      <th>3412</th>\n",
              "      <td>https://www.aelf.org/bible/He/13</td>\n",
              "      <td>05</td>\n",
              "      <td>Que votre conduite ne soit pas inspirée par l’...</td>\n",
              "    </tr>\n",
              "    <tr>\n",
              "      <th>3461</th>\n",
              "      <td>https://www.aelf.org/bible/Jc/2</td>\n",
              "      <td>02</td>\n",
              "      <td>Imaginons que, dans votre assemblée, arrivent ...</td>\n",
              "    </tr>\n",
              "  </tbody>\n",
              "</table>\n",
              "</div>\n",
              "      <button class=\"colab-df-convert\" onclick=\"convertToInteractive('df-786918ae-691c-4f36-9751-a709661b1676')\"\n",
              "              title=\"Convert this dataframe to an interactive table.\"\n",
              "              style=\"display:none;\">\n",
              "        \n",
              "  <svg xmlns=\"http://www.w3.org/2000/svg\" height=\"24px\"viewBox=\"0 0 24 24\"\n",
              "       width=\"24px\">\n",
              "    <path d=\"M0 0h24v24H0V0z\" fill=\"none\"/>\n",
              "    <path d=\"M18.56 5.44l.94 2.06.94-2.06 2.06-.94-2.06-.94-.94-2.06-.94 2.06-2.06.94zm-11 1L8.5 8.5l.94-2.06 2.06-.94-2.06-.94L8.5 2.5l-.94 2.06-2.06.94zm10 10l.94 2.06.94-2.06 2.06-.94-2.06-.94-.94-2.06-.94 2.06-2.06.94z\"/><path d=\"M17.41 7.96l-1.37-1.37c-.4-.4-.92-.59-1.43-.59-.52 0-1.04.2-1.43.59L10.3 9.45l-7.72 7.72c-.78.78-.78 2.05 0 2.83L4 21.41c.39.39.9.59 1.41.59.51 0 1.02-.2 1.41-.59l7.78-7.78 2.81-2.81c.8-.78.8-2.07 0-2.86zM5.41 20L4 18.59l7.72-7.72 1.47 1.35L5.41 20z\"/>\n",
              "  </svg>\n",
              "      </button>\n",
              "      \n",
              "  <style>\n",
              "    .colab-df-container {\n",
              "      display:flex;\n",
              "      flex-wrap:wrap;\n",
              "      gap: 12px;\n",
              "    }\n",
              "\n",
              "    .colab-df-convert {\n",
              "      background-color: #E8F0FE;\n",
              "      border: none;\n",
              "      border-radius: 50%;\n",
              "      cursor: pointer;\n",
              "      display: none;\n",
              "      fill: #1967D2;\n",
              "      height: 32px;\n",
              "      padding: 0 0 0 0;\n",
              "      width: 32px;\n",
              "    }\n",
              "\n",
              "    .colab-df-convert:hover {\n",
              "      background-color: #E2EBFA;\n",
              "      box-shadow: 0px 1px 2px rgba(60, 64, 67, 0.3), 0px 1px 3px 1px rgba(60, 64, 67, 0.15);\n",
              "      fill: #174EA6;\n",
              "    }\n",
              "\n",
              "    [theme=dark] .colab-df-convert {\n",
              "      background-color: #3B4455;\n",
              "      fill: #D2E3FC;\n",
              "    }\n",
              "\n",
              "    [theme=dark] .colab-df-convert:hover {\n",
              "      background-color: #434B5C;\n",
              "      box-shadow: 0px 1px 3px 1px rgba(0, 0, 0, 0.15);\n",
              "      filter: drop-shadow(0px 1px 2px rgba(0, 0, 0, 0.3));\n",
              "      fill: #FFFFFF;\n",
              "    }\n",
              "  </style>\n",
              "\n",
              "      <script>\n",
              "        const buttonEl =\n",
              "          document.querySelector('#df-786918ae-691c-4f36-9751-a709661b1676 button.colab-df-convert');\n",
              "        buttonEl.style.display =\n",
              "          google.colab.kernel.accessAllowed ? 'block' : 'none';\n",
              "\n",
              "        async function convertToInteractive(key) {\n",
              "          const element = document.querySelector('#df-786918ae-691c-4f36-9751-a709661b1676');\n",
              "          const dataTable =\n",
              "            await google.colab.kernel.invokeFunction('convertToInteractive',\n",
              "                                                     [key], {});\n",
              "          if (!dataTable) return;\n",
              "\n",
              "          const docLinkHtml = 'Like what you see? Visit the ' +\n",
              "            '<a target=\"_blank\" href=https://colab.research.google.com/notebooks/data_table.ipynb>data table notebook</a>'\n",
              "            + ' to learn more about interactive tables.';\n",
              "          element.innerHTML = '';\n",
              "          dataTable['output_type'] = 'display_data';\n",
              "          await google.colab.output.renderOutput(dataTable, element);\n",
              "          const docLink = document.createElement('div');\n",
              "          docLink.innerHTML = docLinkHtml;\n",
              "          element.appendChild(docLink);\n",
              "        }\n",
              "      </script>\n",
              "    </div>\n",
              "  </div>\n",
              "  "
            ],
            "text/plain": [
              "                                   URL  ...                                              TEXTE\n",
              "1596   https://www.aelf.org/bible/Ac/8  ...  Pierre lui dit : « Périsse ton argent, et toi ...\n",
              "7181  https://www.aelf.org/bible/Mt/26  ...  On aurait pu, en effet, vendre ce parfum pour ...\n",
              "5181  https://www.aelf.org/bible/Lc/16  ...  Si donc vous n’avez pas été dignes de confianc...\n",
              "3412  https://www.aelf.org/bible/He/13  ...  Que votre conduite ne soit pas inspirée par l’...\n",
              "3461   https://www.aelf.org/bible/Jc/2  ...  Imaginons que, dans votre assemblée, arrivent ...\n",
              "\n",
              "[5 rows x 3 columns]"
            ]
          },
          "metadata": {},
          "execution_count": 57
        }
      ]
    },
    {
      "cell_type": "code",
      "source": [
        ""
      ],
      "metadata": {
        "id": "u7AJStQxUe3r"
      },
      "execution_count": null,
      "outputs": []
    }
  ]
}