{
  "nbformat": 4,
  "nbformat_minor": 0,
  "metadata": {
    "colab": {
      "name": "Bible NLP SpaCy.ipynb",
      "provenance": [],
      "toc_visible": true,
      "mount_file_id": "1UA-m5ycCDUCYlijk2G4zHWJ-NIa8Loqm",
      "authorship_tag": "ABX9TyPOAAsYKnfCHcKwJJ1zdQuk",
      "include_colab_link": true
    },
    "kernelspec": {
      "name": "python3",
      "display_name": "Python 3"
    },
    "language_info": {
      "name": "python"
    }
  },
  "cells": [
    {
      "cell_type": "markdown",
      "metadata": {
        "id": "view-in-github",
        "colab_type": "text"
      },
      "source": [
        "<a href=\"https://colab.research.google.com/github/fdelattre/BibleReco/blob/main/Bible_NLP_SpaCy.ipynb\" target=\"_parent\"><img src=\"https://colab.research.google.com/assets/colab-badge.svg\" alt=\"Open In Colab\"/></a>"
      ]
    },
    {
      "cell_type": "markdown",
      "source": [
        "# Application de quelques techniques NLP sur les textes bibliques"
      ],
      "metadata": {
        "id": "V3e8LPR-Bxlm"
      }
    },
    {
      "cell_type": "markdown",
      "source": [
        "Le corpus biblique en français est disponible intégralement en ligne sur le site de l'[Association Épiscopale Liturgique pour les pays Francophones](https://www.aelf.org/bible).\n",
        "\n",
        "Le texte a été scrappé depuis le site internet et formatté comme ceci :\n",
        "\n",
        "| Champ | Description |\n",
        "|---|---|\n",
        "| TESTAMENT | Ancien 'AT', Nouveau 'NT' ou Psaumes 'PS' |\n",
        "| LIVRE | Titre du livre (ex : \"Lettre de Saint Paul Apôtre aux Romains\") |\n",
        "| CODE_LIVRE | Code du livre (ex : Rm) |\n",
        "| CHAPITRE | Numéro du chapitre dans le livre |\n",
        "| URL | Url sur le site de l'AELF |\n",
        "| VERSET | numéro du verset |\n",
        "| TEXTE | Texte du verset |\n",
        "\n",
        "Dans ce notebook, nous appliquerons quelques techniques de nettoyage de texte. Nous tenterons ensuite de visualiser les proximités qui existent entre les textes. Enfin, nous proposerons une sorte de moteur de recommandation biblique."
      ],
      "metadata": {
        "id": "7DlU1asHtEDh"
      }
    },
    {
      "cell_type": "code",
      "source": [
        "from google.colab import drive\n",
        "drive.mount('/gdrive')\n",
        "%cd /gdrive"
      ],
      "metadata": {
        "colab": {
          "base_uri": "https://localhost:8080/"
        },
        "id": "3Y5bdTDwB0cC",
        "outputId": "d18054c3-62fc-4e4d-a786-d34d11ee4524"
      },
      "execution_count": 1,
      "outputs": [
        {
          "output_type": "stream",
          "name": "stdout",
          "text": [
            "Mounted at /gdrive\n",
            "/gdrive\n"
          ]
        }
      ]
    },
    {
      "cell_type": "code",
      "source": [
        "import pandas as pd\n",
        "filepath = '/gdrive/MyDrive/Colab Notebooks/bible_aelf.parquet.gzip'\n",
        "data = pd.read_parquet(filepath)\n",
        "data.sample(5)"
      ],
      "metadata": {
        "colab": {
          "base_uri": "https://localhost:8080/",
          "height": 206
        },
        "id": "sQkRHmSQB3Mz",
        "outputId": "1f2b55bd-7068-4e06-caa5-800d8e06cd9c"
      },
      "execution_count": 79,
      "outputs": [
        {
          "output_type": "execute_result",
          "data": {
            "text/html": [
              "\n",
              "  <div id=\"df-ece49bce-76a0-4143-9725-12793d7b51c4\">\n",
              "    <div class=\"colab-df-container\">\n",
              "      <div>\n",
              "<style scoped>\n",
              "    .dataframe tbody tr th:only-of-type {\n",
              "        vertical-align: middle;\n",
              "    }\n",
              "\n",
              "    .dataframe tbody tr th {\n",
              "        vertical-align: top;\n",
              "    }\n",
              "\n",
              "    .dataframe thead th {\n",
              "        text-align: right;\n",
              "    }\n",
              "</style>\n",
              "<table border=\"1\" class=\"dataframe\">\n",
              "  <thead>\n",
              "    <tr style=\"text-align: right;\">\n",
              "      <th></th>\n",
              "      <th>TESTAMENT</th>\n",
              "      <th>LIVRE</th>\n",
              "      <th>CODE_LIVRE</th>\n",
              "      <th>CHAPITRE</th>\n",
              "      <th>URL</th>\n",
              "      <th>VERSET</th>\n",
              "      <th>TEXTE</th>\n",
              "    </tr>\n",
              "  </thead>\n",
              "  <tbody>\n",
              "    <tr>\n",
              "      <th>7508</th>\n",
              "      <td>NT</td>\n",
              "      <td>Deuxième lettre de saint Paul Apôtre aux Thess...</td>\n",
              "      <td>2Th</td>\n",
              "      <td>3</td>\n",
              "      <td>https://www.aelf.org/bible/2Th/3</td>\n",
              "      <td>14</td>\n",
              "      <td>Si quelqu’un n’obéit pas à ce que nous disons ...</td>\n",
              "    </tr>\n",
              "    <tr>\n",
              "      <th>13490</th>\n",
              "      <td>AT</td>\n",
              "      <td>Livre d'Ezekiel</td>\n",
              "      <td>Ez</td>\n",
              "      <td>22</td>\n",
              "      <td>https://www.aelf.org/bible/Ez/22</td>\n",
              "      <td>06</td>\n",
              "      <td>Les princes d’Israël répandent chez toi le san...</td>\n",
              "    </tr>\n",
              "    <tr>\n",
              "      <th>9778</th>\n",
              "      <td>AT</td>\n",
              "      <td>Livre de Daniel</td>\n",
              "      <td>Dn</td>\n",
              "      <td>4</td>\n",
              "      <td>https://www.aelf.org/bible/Dn/4</td>\n",
              "      <td>26</td>\n",
              "      <td>Douze mois après, comme il se promenait sur la...</td>\n",
              "    </tr>\n",
              "    <tr>\n",
              "      <th>14833</th>\n",
              "      <td>AT</td>\n",
              "      <td>Livre de la Genèse</td>\n",
              "      <td>Gn</td>\n",
              "      <td>18</td>\n",
              "      <td>https://www.aelf.org/bible/Gn/18</td>\n",
              "      <td>17</td>\n",
              "      <td>Le Seigneur s’était dit : « Est-ce que je vais...</td>\n",
              "    </tr>\n",
              "    <tr>\n",
              "      <th>3033</th>\n",
              "      <td>AT</td>\n",
              "      <td>Premier livre des Rois</td>\n",
              "      <td>1R</td>\n",
              "      <td>14</td>\n",
              "      <td>https://www.aelf.org/bible/1R/14</td>\n",
              "      <td>19</td>\n",
              "      <td>Le reste des actions de Jéroboam,\\nses combats...</td>\n",
              "    </tr>\n",
              "  </tbody>\n",
              "</table>\n",
              "</div>\n",
              "      <button class=\"colab-df-convert\" onclick=\"convertToInteractive('df-ece49bce-76a0-4143-9725-12793d7b51c4')\"\n",
              "              title=\"Convert this dataframe to an interactive table.\"\n",
              "              style=\"display:none;\">\n",
              "        \n",
              "  <svg xmlns=\"http://www.w3.org/2000/svg\" height=\"24px\"viewBox=\"0 0 24 24\"\n",
              "       width=\"24px\">\n",
              "    <path d=\"M0 0h24v24H0V0z\" fill=\"none\"/>\n",
              "    <path d=\"M18.56 5.44l.94 2.06.94-2.06 2.06-.94-2.06-.94-.94-2.06-.94 2.06-2.06.94zm-11 1L8.5 8.5l.94-2.06 2.06-.94-2.06-.94L8.5 2.5l-.94 2.06-2.06.94zm10 10l.94 2.06.94-2.06 2.06-.94-2.06-.94-.94-2.06-.94 2.06-2.06.94z\"/><path d=\"M17.41 7.96l-1.37-1.37c-.4-.4-.92-.59-1.43-.59-.52 0-1.04.2-1.43.59L10.3 9.45l-7.72 7.72c-.78.78-.78 2.05 0 2.83L4 21.41c.39.39.9.59 1.41.59.51 0 1.02-.2 1.41-.59l7.78-7.78 2.81-2.81c.8-.78.8-2.07 0-2.86zM5.41 20L4 18.59l7.72-7.72 1.47 1.35L5.41 20z\"/>\n",
              "  </svg>\n",
              "      </button>\n",
              "      \n",
              "  <style>\n",
              "    .colab-df-container {\n",
              "      display:flex;\n",
              "      flex-wrap:wrap;\n",
              "      gap: 12px;\n",
              "    }\n",
              "\n",
              "    .colab-df-convert {\n",
              "      background-color: #E8F0FE;\n",
              "      border: none;\n",
              "      border-radius: 50%;\n",
              "      cursor: pointer;\n",
              "      display: none;\n",
              "      fill: #1967D2;\n",
              "      height: 32px;\n",
              "      padding: 0 0 0 0;\n",
              "      width: 32px;\n",
              "    }\n",
              "\n",
              "    .colab-df-convert:hover {\n",
              "      background-color: #E2EBFA;\n",
              "      box-shadow: 0px 1px 2px rgba(60, 64, 67, 0.3), 0px 1px 3px 1px rgba(60, 64, 67, 0.15);\n",
              "      fill: #174EA6;\n",
              "    }\n",
              "\n",
              "    [theme=dark] .colab-df-convert {\n",
              "      background-color: #3B4455;\n",
              "      fill: #D2E3FC;\n",
              "    }\n",
              "\n",
              "    [theme=dark] .colab-df-convert:hover {\n",
              "      background-color: #434B5C;\n",
              "      box-shadow: 0px 1px 3px 1px rgba(0, 0, 0, 0.15);\n",
              "      filter: drop-shadow(0px 1px 2px rgba(0, 0, 0, 0.3));\n",
              "      fill: #FFFFFF;\n",
              "    }\n",
              "  </style>\n",
              "\n",
              "      <script>\n",
              "        const buttonEl =\n",
              "          document.querySelector('#df-ece49bce-76a0-4143-9725-12793d7b51c4 button.colab-df-convert');\n",
              "        buttonEl.style.display =\n",
              "          google.colab.kernel.accessAllowed ? 'block' : 'none';\n",
              "\n",
              "        async function convertToInteractive(key) {\n",
              "          const element = document.querySelector('#df-ece49bce-76a0-4143-9725-12793d7b51c4');\n",
              "          const dataTable =\n",
              "            await google.colab.kernel.invokeFunction('convertToInteractive',\n",
              "                                                     [key], {});\n",
              "          if (!dataTable) return;\n",
              "\n",
              "          const docLinkHtml = 'Like what you see? Visit the ' +\n",
              "            '<a target=\"_blank\" href=https://colab.research.google.com/notebooks/data_table.ipynb>data table notebook</a>'\n",
              "            + ' to learn more about interactive tables.';\n",
              "          element.innerHTML = '';\n",
              "          dataTable['output_type'] = 'display_data';\n",
              "          await google.colab.output.renderOutput(dataTable, element);\n",
              "          const docLink = document.createElement('div');\n",
              "          docLink.innerHTML = docLinkHtml;\n",
              "          element.appendChild(docLink);\n",
              "        }\n",
              "      </script>\n",
              "    </div>\n",
              "  </div>\n",
              "  "
            ],
            "text/plain": [
              "      TESTAMENT  ...                                              TEXTE\n",
              "7508         NT  ...  Si quelqu’un n’obéit pas à ce que nous disons ...\n",
              "13490        AT  ...  Les princes d’Israël répandent chez toi le san...\n",
              "9778         AT  ...  Douze mois après, comme il se promenait sur la...\n",
              "14833        AT  ...  Le Seigneur s’était dit : « Est-ce que je vais...\n",
              "3033         AT  ...  Le reste des actions de Jéroboam,\\nses combats...\n",
              "\n",
              "[5 rows x 7 columns]"
            ]
          },
          "metadata": {},
          "execution_count": 79
        }
      ]
    },
    {
      "cell_type": "markdown",
      "source": [
        "# Transformations de texte"
      ],
      "metadata": {
        "id": "Sxz0t-nJMciX"
      }
    },
    {
      "cell_type": "markdown",
      "source": [
        "## Nettoyage du texte\n",
        "* Passage en minuscules\n",
        "* retrait des signes de ponctuation et des chiffres\n",
        "* retrait des stopwords en se basant sur la liste [Stopwords ISO](https://github.com/stopwords-iso)"
      ],
      "metadata": {
        "id": "fLn94trakoQ1"
      }
    },
    {
      "cell_type": "code",
      "source": [
        "! pip install stopwordsiso"
      ],
      "metadata": {
        "colab": {
          "base_uri": "https://localhost:8080/"
        },
        "id": "sP6ziubDY65U",
        "outputId": "10a28650-25cf-4db5-a7cb-090c8513ba43"
      },
      "execution_count": 80,
      "outputs": [
        {
          "output_type": "stream",
          "name": "stdout",
          "text": [
            "Requirement already satisfied: stopwordsiso in /usr/local/lib/python3.7/dist-packages (0.6.1)\n"
          ]
        }
      ]
    },
    {
      "cell_type": "code",
      "source": [
        "import stopwordsiso as stopwords\n",
        "import re\n",
        "\n",
        "def clean_text(txt, remove_stop_words = False):\n",
        "  \n",
        "  txt_clean         =  ''.join([re.sub(r'[^a-zA-ZÀ-ÿ]', ' ', r.lower()) for r in txt])\n",
        "  \n",
        "  if remove_stop_words:\n",
        "    stopWords         = set(stopwords.stopwords(\"fr\"))  # French stopwords\n",
        "    txt_clean = ' '.join([item for item in txt_clean.split() if item not in stopWords])\n",
        "  \n",
        "  return str.rstrip(txt_clean)"
      ],
      "metadata": {
        "id": "ZZs84i7FY9CW"
      },
      "execution_count": 81,
      "outputs": []
    },
    {
      "cell_type": "code",
      "source": [
        "data['TEXTE_CLEAN'] = data['TEXTE'].apply(clean_text, remove_stop_words = True)\n",
        "\n",
        "data.sample(5)"
      ],
      "metadata": {
        "colab": {
          "base_uri": "https://localhost:8080/",
          "height": 337
        },
        "id": "UEoFjnYqn1bw",
        "outputId": "d26761ff-16cf-40e7-8a69-f276e3486454"
      },
      "execution_count": 83,
      "outputs": [
        {
          "output_type": "execute_result",
          "data": {
            "text/html": [
              "\n",
              "  <div id=\"df-6133b011-9cfe-4932-beac-98a956577077\">\n",
              "    <div class=\"colab-df-container\">\n",
              "      <div>\n",
              "<style scoped>\n",
              "    .dataframe tbody tr th:only-of-type {\n",
              "        vertical-align: middle;\n",
              "    }\n",
              "\n",
              "    .dataframe tbody tr th {\n",
              "        vertical-align: top;\n",
              "    }\n",
              "\n",
              "    .dataframe thead th {\n",
              "        text-align: right;\n",
              "    }\n",
              "</style>\n",
              "<table border=\"1\" class=\"dataframe\">\n",
              "  <thead>\n",
              "    <tr style=\"text-align: right;\">\n",
              "      <th></th>\n",
              "      <th>TESTAMENT</th>\n",
              "      <th>LIVRE</th>\n",
              "      <th>CODE_LIVRE</th>\n",
              "      <th>CHAPITRE</th>\n",
              "      <th>URL</th>\n",
              "      <th>VERSET</th>\n",
              "      <th>TEXTE</th>\n",
              "      <th>TEXTE_CLEAN</th>\n",
              "    </tr>\n",
              "  </thead>\n",
              "  <tbody>\n",
              "    <tr>\n",
              "      <th>18955</th>\n",
              "      <td>AT</td>\n",
              "      <td>Livre de Judith</td>\n",
              "      <td>Jdt</td>\n",
              "      <td>10</td>\n",
              "      <td>https://www.aelf.org/bible/Jdt/10</td>\n",
              "      <td>07</td>\n",
              "      <td>Quand ils virent Judith le visage transformé, ...</td>\n",
              "      <td>virent judith visage transformé portant vêteme...</td>\n",
              "    </tr>\n",
              "    <tr>\n",
              "      <th>2474</th>\n",
              "      <td>NT</td>\n",
              "      <td>Première lettre de saint Pierre Apôtre</td>\n",
              "      <td>1P</td>\n",
              "      <td>3</td>\n",
              "      <td>https://www.aelf.org/bible/1P/3</td>\n",
              "      <td>16</td>\n",
              "      <td>mais faites-le avec douceur et respect. Ayez u...</td>\n",
              "      <td>douceur respect conscience adversaires pris ho...</td>\n",
              "    </tr>\n",
              "    <tr>\n",
              "      <th>8838</th>\n",
              "      <td>NT</td>\n",
              "      <td>Livre de l'Apocalypse</td>\n",
              "      <td>Ap</td>\n",
              "      <td>1</td>\n",
              "      <td>https://www.aelf.org/bible/Ap/1</td>\n",
              "      <td>20</td>\n",
              "      <td>Quant au mystère des sept étoiles que tu as vu...</td>\n",
              "      <td>mystère étoiles vues main chandeliers or étoil...</td>\n",
              "    </tr>\n",
              "    <tr>\n",
              "      <th>10482</th>\n",
              "      <td>AT</td>\n",
              "      <td>Livre du Deutéronome</td>\n",
              "      <td>Dt</td>\n",
              "      <td>12</td>\n",
              "      <td>https://www.aelf.org/bible/Dt/12</td>\n",
              "      <td>21</td>\n",
              "      <td>Si tu es trop loin du lieu que le Seigneur ton...</td>\n",
              "      <td>loin lieu seigneur dieu choisi mettre nom pour...</td>\n",
              "    </tr>\n",
              "    <tr>\n",
              "      <th>31330</th>\n",
              "      <td>PS</td>\n",
              "      <td>Livre des Psaumes</td>\n",
              "      <td>Ps</td>\n",
              "      <td>98</td>\n",
              "      <td>https://www.aelf.org/bible/Ps/98</td>\n",
              "      <td>09</td>\n",
              "      <td>Exaltez le Seigneur notre Dieu, + prosternez-v...</td>\n",
              "      <td>exaltez seigneur dieu prosternez sainte montag...</td>\n",
              "    </tr>\n",
              "  </tbody>\n",
              "</table>\n",
              "</div>\n",
              "      <button class=\"colab-df-convert\" onclick=\"convertToInteractive('df-6133b011-9cfe-4932-beac-98a956577077')\"\n",
              "              title=\"Convert this dataframe to an interactive table.\"\n",
              "              style=\"display:none;\">\n",
              "        \n",
              "  <svg xmlns=\"http://www.w3.org/2000/svg\" height=\"24px\"viewBox=\"0 0 24 24\"\n",
              "       width=\"24px\">\n",
              "    <path d=\"M0 0h24v24H0V0z\" fill=\"none\"/>\n",
              "    <path d=\"M18.56 5.44l.94 2.06.94-2.06 2.06-.94-2.06-.94-.94-2.06-.94 2.06-2.06.94zm-11 1L8.5 8.5l.94-2.06 2.06-.94-2.06-.94L8.5 2.5l-.94 2.06-2.06.94zm10 10l.94 2.06.94-2.06 2.06-.94-2.06-.94-.94-2.06-.94 2.06-2.06.94z\"/><path d=\"M17.41 7.96l-1.37-1.37c-.4-.4-.92-.59-1.43-.59-.52 0-1.04.2-1.43.59L10.3 9.45l-7.72 7.72c-.78.78-.78 2.05 0 2.83L4 21.41c.39.39.9.59 1.41.59.51 0 1.02-.2 1.41-.59l7.78-7.78 2.81-2.81c.8-.78.8-2.07 0-2.86zM5.41 20L4 18.59l7.72-7.72 1.47 1.35L5.41 20z\"/>\n",
              "  </svg>\n",
              "      </button>\n",
              "      \n",
              "  <style>\n",
              "    .colab-df-container {\n",
              "      display:flex;\n",
              "      flex-wrap:wrap;\n",
              "      gap: 12px;\n",
              "    }\n",
              "\n",
              "    .colab-df-convert {\n",
              "      background-color: #E8F0FE;\n",
              "      border: none;\n",
              "      border-radius: 50%;\n",
              "      cursor: pointer;\n",
              "      display: none;\n",
              "      fill: #1967D2;\n",
              "      height: 32px;\n",
              "      padding: 0 0 0 0;\n",
              "      width: 32px;\n",
              "    }\n",
              "\n",
              "    .colab-df-convert:hover {\n",
              "      background-color: #E2EBFA;\n",
              "      box-shadow: 0px 1px 2px rgba(60, 64, 67, 0.3), 0px 1px 3px 1px rgba(60, 64, 67, 0.15);\n",
              "      fill: #174EA6;\n",
              "    }\n",
              "\n",
              "    [theme=dark] .colab-df-convert {\n",
              "      background-color: #3B4455;\n",
              "      fill: #D2E3FC;\n",
              "    }\n",
              "\n",
              "    [theme=dark] .colab-df-convert:hover {\n",
              "      background-color: #434B5C;\n",
              "      box-shadow: 0px 1px 3px 1px rgba(0, 0, 0, 0.15);\n",
              "      filter: drop-shadow(0px 1px 2px rgba(0, 0, 0, 0.3));\n",
              "      fill: #FFFFFF;\n",
              "    }\n",
              "  </style>\n",
              "\n",
              "      <script>\n",
              "        const buttonEl =\n",
              "          document.querySelector('#df-6133b011-9cfe-4932-beac-98a956577077 button.colab-df-convert');\n",
              "        buttonEl.style.display =\n",
              "          google.colab.kernel.accessAllowed ? 'block' : 'none';\n",
              "\n",
              "        async function convertToInteractive(key) {\n",
              "          const element = document.querySelector('#df-6133b011-9cfe-4932-beac-98a956577077');\n",
              "          const dataTable =\n",
              "            await google.colab.kernel.invokeFunction('convertToInteractive',\n",
              "                                                     [key], {});\n",
              "          if (!dataTable) return;\n",
              "\n",
              "          const docLinkHtml = 'Like what you see? Visit the ' +\n",
              "            '<a target=\"_blank\" href=https://colab.research.google.com/notebooks/data_table.ipynb>data table notebook</a>'\n",
              "            + ' to learn more about interactive tables.';\n",
              "          element.innerHTML = '';\n",
              "          dataTable['output_type'] = 'display_data';\n",
              "          await google.colab.output.renderOutput(dataTable, element);\n",
              "          const docLink = document.createElement('div');\n",
              "          docLink.innerHTML = docLinkHtml;\n",
              "          element.appendChild(docLink);\n",
              "        }\n",
              "      </script>\n",
              "    </div>\n",
              "  </div>\n",
              "  "
            ],
            "text/plain": [
              "      TESTAMENT  ...                                        TEXTE_CLEAN\n",
              "18955        AT  ...  virent judith visage transformé portant vêteme...\n",
              "2474         NT  ...  douceur respect conscience adversaires pris ho...\n",
              "8838         NT  ...  mystère étoiles vues main chandeliers or étoil...\n",
              "10482        AT  ...  loin lieu seigneur dieu choisi mettre nom pour...\n",
              "31330        PS  ...  exaltez seigneur dieu prosternez sainte montag...\n",
              "\n",
              "[5 rows x 8 columns]"
            ]
          },
          "metadata": {},
          "execution_count": 83
        }
      ]
    },
    {
      "cell_type": "markdown",
      "source": [
        "## Etude de fréquences de mots"
      ],
      "metadata": {
        "id": "arDOFB__jwkX"
      }
    },
    {
      "cell_type": "markdown",
      "source": [
        "Les données étant à la granularité du verset, on procède au regroupement des textes par Livre"
      ],
      "metadata": {
        "id": "qmZ__PwQMGnB"
      }
    },
    {
      "cell_type": "code",
      "source": [
        "df_livres = data.groupby(['TESTAMENT', 'LIVRE', 'CODE_LIVRE'], as_index=False)['TEXTE_CLEAN'].apply(' '.join)\n",
        "df_livres.sample(5)"
      ],
      "metadata": {
        "id": "RctJYNhvxGDR",
        "colab": {
          "base_uri": "https://localhost:8080/",
          "height": 206
        },
        "outputId": "bc2bb1be-e403-4870-bc9f-cde683620603"
      },
      "execution_count": 84,
      "outputs": [
        {
          "output_type": "execute_result",
          "data": {
            "text/html": [
              "\n",
              "  <div id=\"df-49f95f0f-4a9f-447c-87fa-b8a8b68d5f73\">\n",
              "    <div class=\"colab-df-container\">\n",
              "      <div>\n",
              "<style scoped>\n",
              "    .dataframe tbody tr th:only-of-type {\n",
              "        vertical-align: middle;\n",
              "    }\n",
              "\n",
              "    .dataframe tbody tr th {\n",
              "        vertical-align: top;\n",
              "    }\n",
              "\n",
              "    .dataframe thead th {\n",
              "        text-align: right;\n",
              "    }\n",
              "</style>\n",
              "<table border=\"1\" class=\"dataframe\">\n",
              "  <thead>\n",
              "    <tr style=\"text-align: right;\">\n",
              "      <th></th>\n",
              "      <th>TESTAMENT</th>\n",
              "      <th>LIVRE</th>\n",
              "      <th>CODE_LIVRE</th>\n",
              "      <th>TEXTE_CLEAN</th>\n",
              "    </tr>\n",
              "  </thead>\n",
              "  <tbody>\n",
              "    <tr>\n",
              "      <th>61</th>\n",
              "      <td>NT</td>\n",
              "      <td>Lettre de saint Paul Apôtre aux Philippiens</td>\n",
              "      <td>Ph</td>\n",
              "      <td>paul timothee serviteurs christ jésus sanctifi...</td>\n",
              "    </tr>\n",
              "    <tr>\n",
              "      <th>67</th>\n",
              "      <td>NT</td>\n",
              "      <td>Première lettre de saint Jean</td>\n",
              "      <td>1Jn</td>\n",
              "      <td>etait commencement entendu yeux contemplé main...</td>\n",
              "    </tr>\n",
              "    <tr>\n",
              "      <th>8</th>\n",
              "      <td>AT</td>\n",
              "      <td>Livre d'Aggée</td>\n",
              "      <td>Ag</td>\n",
              "      <td>deuxieme annee règne darius jour mois seigneur...</td>\n",
              "    </tr>\n",
              "    <tr>\n",
              "      <th>24</th>\n",
              "      <td>AT</td>\n",
              "      <td>Livre de Jérémie</td>\n",
              "      <td>Jr</td>\n",
              "      <td>paroles jeremie fils helkias prêtres anatoth p...</td>\n",
              "    </tr>\n",
              "    <tr>\n",
              "      <th>69</th>\n",
              "      <td>NT</td>\n",
              "      <td>Première lettre de saint Paul Apôtre aux Thess...</td>\n",
              "      <td>1Th</td>\n",
              "      <td>paul silvain timothee église thessalonique die...</td>\n",
              "    </tr>\n",
              "  </tbody>\n",
              "</table>\n",
              "</div>\n",
              "      <button class=\"colab-df-convert\" onclick=\"convertToInteractive('df-49f95f0f-4a9f-447c-87fa-b8a8b68d5f73')\"\n",
              "              title=\"Convert this dataframe to an interactive table.\"\n",
              "              style=\"display:none;\">\n",
              "        \n",
              "  <svg xmlns=\"http://www.w3.org/2000/svg\" height=\"24px\"viewBox=\"0 0 24 24\"\n",
              "       width=\"24px\">\n",
              "    <path d=\"M0 0h24v24H0V0z\" fill=\"none\"/>\n",
              "    <path d=\"M18.56 5.44l.94 2.06.94-2.06 2.06-.94-2.06-.94-.94-2.06-.94 2.06-2.06.94zm-11 1L8.5 8.5l.94-2.06 2.06-.94-2.06-.94L8.5 2.5l-.94 2.06-2.06.94zm10 10l.94 2.06.94-2.06 2.06-.94-2.06-.94-.94-2.06-.94 2.06-2.06.94z\"/><path d=\"M17.41 7.96l-1.37-1.37c-.4-.4-.92-.59-1.43-.59-.52 0-1.04.2-1.43.59L10.3 9.45l-7.72 7.72c-.78.78-.78 2.05 0 2.83L4 21.41c.39.39.9.59 1.41.59.51 0 1.02-.2 1.41-.59l7.78-7.78 2.81-2.81c.8-.78.8-2.07 0-2.86zM5.41 20L4 18.59l7.72-7.72 1.47 1.35L5.41 20z\"/>\n",
              "  </svg>\n",
              "      </button>\n",
              "      \n",
              "  <style>\n",
              "    .colab-df-container {\n",
              "      display:flex;\n",
              "      flex-wrap:wrap;\n",
              "      gap: 12px;\n",
              "    }\n",
              "\n",
              "    .colab-df-convert {\n",
              "      background-color: #E8F0FE;\n",
              "      border: none;\n",
              "      border-radius: 50%;\n",
              "      cursor: pointer;\n",
              "      display: none;\n",
              "      fill: #1967D2;\n",
              "      height: 32px;\n",
              "      padding: 0 0 0 0;\n",
              "      width: 32px;\n",
              "    }\n",
              "\n",
              "    .colab-df-convert:hover {\n",
              "      background-color: #E2EBFA;\n",
              "      box-shadow: 0px 1px 2px rgba(60, 64, 67, 0.3), 0px 1px 3px 1px rgba(60, 64, 67, 0.15);\n",
              "      fill: #174EA6;\n",
              "    }\n",
              "\n",
              "    [theme=dark] .colab-df-convert {\n",
              "      background-color: #3B4455;\n",
              "      fill: #D2E3FC;\n",
              "    }\n",
              "\n",
              "    [theme=dark] .colab-df-convert:hover {\n",
              "      background-color: #434B5C;\n",
              "      box-shadow: 0px 1px 3px 1px rgba(0, 0, 0, 0.15);\n",
              "      filter: drop-shadow(0px 1px 2px rgba(0, 0, 0, 0.3));\n",
              "      fill: #FFFFFF;\n",
              "    }\n",
              "  </style>\n",
              "\n",
              "      <script>\n",
              "        const buttonEl =\n",
              "          document.querySelector('#df-49f95f0f-4a9f-447c-87fa-b8a8b68d5f73 button.colab-df-convert');\n",
              "        buttonEl.style.display =\n",
              "          google.colab.kernel.accessAllowed ? 'block' : 'none';\n",
              "\n",
              "        async function convertToInteractive(key) {\n",
              "          const element = document.querySelector('#df-49f95f0f-4a9f-447c-87fa-b8a8b68d5f73');\n",
              "          const dataTable =\n",
              "            await google.colab.kernel.invokeFunction('convertToInteractive',\n",
              "                                                     [key], {});\n",
              "          if (!dataTable) return;\n",
              "\n",
              "          const docLinkHtml = 'Like what you see? Visit the ' +\n",
              "            '<a target=\"_blank\" href=https://colab.research.google.com/notebooks/data_table.ipynb>data table notebook</a>'\n",
              "            + ' to learn more about interactive tables.';\n",
              "          element.innerHTML = '';\n",
              "          dataTable['output_type'] = 'display_data';\n",
              "          await google.colab.output.renderOutput(dataTable, element);\n",
              "          const docLink = document.createElement('div');\n",
              "          docLink.innerHTML = docLinkHtml;\n",
              "          element.appendChild(docLink);\n",
              "        }\n",
              "      </script>\n",
              "    </div>\n",
              "  </div>\n",
              "  "
            ],
            "text/plain": [
              "   TESTAMENT  ...                                        TEXTE_CLEAN\n",
              "61        NT  ...  paul timothee serviteurs christ jésus sanctifi...\n",
              "67        NT  ...  etait commencement entendu yeux contemplé main...\n",
              "8         AT  ...  deuxieme annee règne darius jour mois seigneur...\n",
              "24        AT  ...  paroles jeremie fils helkias prêtres anatoth p...\n",
              "69        NT  ...  paul silvain timothee église thessalonique die...\n",
              "\n",
              "[5 rows x 4 columns]"
            ]
          },
          "metadata": {},
          "execution_count": 84
        }
      ]
    },
    {
      "cell_type": "code",
      "source": [
        "def return_most_frequent(txt, n_most_frequent=5):\n",
        "  most_frequent= pd.Series(txt.split()).value_counts()[:n_most_frequent].to_dict()\n",
        "  return dict(sorted(most_frequent.items(), key=lambda item: item[1], reverse=True))\n",
        "\n",
        "\n",
        "df_livres['MOST_FREQUENT_TERMS'] = df_livres['TEXTE_CLEAN'].apply(return_most_frequent, n_most_frequent=10)\n",
        "\n",
        "df_livres[['LIVRE', 'CODE_LIVRE', 'MOST_FREQUENT_TERMS']]"
      ],
      "metadata": {
        "id": "8VtsR2haQ9-x",
        "colab": {
          "base_uri": "https://localhost:8080/",
          "height": 424
        },
        "outputId": "e25f7b61-3a19-47e5-db23-a98f2ead7805"
      },
      "execution_count": 85,
      "outputs": [
        {
          "output_type": "execute_result",
          "data": {
            "text/html": [
              "\n",
              "  <div id=\"df-7e7ffe5f-36ea-4ee8-9c16-596d1eeaca2b\">\n",
              "    <div class=\"colab-df-container\">\n",
              "      <div>\n",
              "<style scoped>\n",
              "    .dataframe tbody tr th:only-of-type {\n",
              "        vertical-align: middle;\n",
              "    }\n",
              "\n",
              "    .dataframe tbody tr th {\n",
              "        vertical-align: top;\n",
              "    }\n",
              "\n",
              "    .dataframe thead th {\n",
              "        text-align: right;\n",
              "    }\n",
              "</style>\n",
              "<table border=\"1\" class=\"dataframe\">\n",
              "  <thead>\n",
              "    <tr style=\"text-align: right;\">\n",
              "      <th></th>\n",
              "      <th>LIVRE</th>\n",
              "      <th>CODE_LIVRE</th>\n",
              "      <th>MOST_FREQUENT_TERMS</th>\n",
              "    </tr>\n",
              "  </thead>\n",
              "  <tbody>\n",
              "    <tr>\n",
              "      <th>0</th>\n",
              "      <td>Cantique des cantiques</td>\n",
              "      <td>Ct</td>\n",
              "      <td>{'aimé': 33, 'ur': 23, 'belle': 14, 'filles': ...</td>\n",
              "    </tr>\n",
              "    <tr>\n",
              "      <th>1</th>\n",
              "      <td>Deuxième Livre des Martyrs d'Israël</td>\n",
              "      <td>2M</td>\n",
              "      <td>{'roi': 80, 'judas': 72, 'juifs': 63, 'dieu': ...</td>\n",
              "    </tr>\n",
              "    <tr>\n",
              "      <th>2</th>\n",
              "      <td>Deuxième livre de Samuel</td>\n",
              "      <td>2S</td>\n",
              "      <td>{'roi': 269, 'david': 263, 'seigneur': 191, 'f...</td>\n",
              "    </tr>\n",
              "    <tr>\n",
              "      <th>3</th>\n",
              "      <td>Deuxième livre des Chroniques</td>\n",
              "      <td>2Ch</td>\n",
              "      <td>{'seigneur': 401, 'roi': 275, 'maison': 200, '...</td>\n",
              "    </tr>\n",
              "    <tr>\n",
              "      <th>4</th>\n",
              "      <td>Deuxième livre des Rois</td>\n",
              "      <td>2R</td>\n",
              "      <td>{'roi': 371, 'seigneur': 293, 'fils': 187, 'is...</td>\n",
              "    </tr>\n",
              "    <tr>\n",
              "      <th>...</th>\n",
              "      <td>...</td>\n",
              "      <td>...</td>\n",
              "      <td>...</td>\n",
              "    </tr>\n",
              "    <tr>\n",
              "      <th>69</th>\n",
              "      <td>Première lettre de saint Paul Apôtre aux Thess...</td>\n",
              "      <td>1Th</td>\n",
              "      <td>{'dieu': 37, 'seigneur': 25, 'frères': 17, 'jé...</td>\n",
              "    </tr>\n",
              "    <tr>\n",
              "      <th>70</th>\n",
              "      <td>Première lettre de saint Paul Apôtre à Timothée</td>\n",
              "      <td>1Tm</td>\n",
              "      <td>{'foi': 25, 'dieu': 25, 'christ': 16, 'jésus':...</td>\n",
              "    </tr>\n",
              "    <tr>\n",
              "      <th>71</th>\n",
              "      <td>Première lettre de saint Pierre Apôtre</td>\n",
              "      <td>1P</td>\n",
              "      <td>{'dieu': 45, 'christ': 22, 'gloire': 13, 'grâc...</td>\n",
              "    </tr>\n",
              "    <tr>\n",
              "      <th>72</th>\n",
              "      <td>Troisième lettre de saint Jean</td>\n",
              "      <td>3Jn</td>\n",
              "      <td>{'vérité': 6, 'témoignage': 5, 'aimé': 4, 'égl...</td>\n",
              "    </tr>\n",
              "    <tr>\n",
              "      <th>73</th>\n",
              "      <td>Livre des Psaumes</td>\n",
              "      <td>Ps</td>\n",
              "      <td>{'seigneur': 747, 'dieu': 453, 'terre': 162, '...</td>\n",
              "    </tr>\n",
              "  </tbody>\n",
              "</table>\n",
              "<p>74 rows × 3 columns</p>\n",
              "</div>\n",
              "      <button class=\"colab-df-convert\" onclick=\"convertToInteractive('df-7e7ffe5f-36ea-4ee8-9c16-596d1eeaca2b')\"\n",
              "              title=\"Convert this dataframe to an interactive table.\"\n",
              "              style=\"display:none;\">\n",
              "        \n",
              "  <svg xmlns=\"http://www.w3.org/2000/svg\" height=\"24px\"viewBox=\"0 0 24 24\"\n",
              "       width=\"24px\">\n",
              "    <path d=\"M0 0h24v24H0V0z\" fill=\"none\"/>\n",
              "    <path d=\"M18.56 5.44l.94 2.06.94-2.06 2.06-.94-2.06-.94-.94-2.06-.94 2.06-2.06.94zm-11 1L8.5 8.5l.94-2.06 2.06-.94-2.06-.94L8.5 2.5l-.94 2.06-2.06.94zm10 10l.94 2.06.94-2.06 2.06-.94-2.06-.94-.94-2.06-.94 2.06-2.06.94z\"/><path d=\"M17.41 7.96l-1.37-1.37c-.4-.4-.92-.59-1.43-.59-.52 0-1.04.2-1.43.59L10.3 9.45l-7.72 7.72c-.78.78-.78 2.05 0 2.83L4 21.41c.39.39.9.59 1.41.59.51 0 1.02-.2 1.41-.59l7.78-7.78 2.81-2.81c.8-.78.8-2.07 0-2.86zM5.41 20L4 18.59l7.72-7.72 1.47 1.35L5.41 20z\"/>\n",
              "  </svg>\n",
              "      </button>\n",
              "      \n",
              "  <style>\n",
              "    .colab-df-container {\n",
              "      display:flex;\n",
              "      flex-wrap:wrap;\n",
              "      gap: 12px;\n",
              "    }\n",
              "\n",
              "    .colab-df-convert {\n",
              "      background-color: #E8F0FE;\n",
              "      border: none;\n",
              "      border-radius: 50%;\n",
              "      cursor: pointer;\n",
              "      display: none;\n",
              "      fill: #1967D2;\n",
              "      height: 32px;\n",
              "      padding: 0 0 0 0;\n",
              "      width: 32px;\n",
              "    }\n",
              "\n",
              "    .colab-df-convert:hover {\n",
              "      background-color: #E2EBFA;\n",
              "      box-shadow: 0px 1px 2px rgba(60, 64, 67, 0.3), 0px 1px 3px 1px rgba(60, 64, 67, 0.15);\n",
              "      fill: #174EA6;\n",
              "    }\n",
              "\n",
              "    [theme=dark] .colab-df-convert {\n",
              "      background-color: #3B4455;\n",
              "      fill: #D2E3FC;\n",
              "    }\n",
              "\n",
              "    [theme=dark] .colab-df-convert:hover {\n",
              "      background-color: #434B5C;\n",
              "      box-shadow: 0px 1px 3px 1px rgba(0, 0, 0, 0.15);\n",
              "      filter: drop-shadow(0px 1px 2px rgba(0, 0, 0, 0.3));\n",
              "      fill: #FFFFFF;\n",
              "    }\n",
              "  </style>\n",
              "\n",
              "      <script>\n",
              "        const buttonEl =\n",
              "          document.querySelector('#df-7e7ffe5f-36ea-4ee8-9c16-596d1eeaca2b button.colab-df-convert');\n",
              "        buttonEl.style.display =\n",
              "          google.colab.kernel.accessAllowed ? 'block' : 'none';\n",
              "\n",
              "        async function convertToInteractive(key) {\n",
              "          const element = document.querySelector('#df-7e7ffe5f-36ea-4ee8-9c16-596d1eeaca2b');\n",
              "          const dataTable =\n",
              "            await google.colab.kernel.invokeFunction('convertToInteractive',\n",
              "                                                     [key], {});\n",
              "          if (!dataTable) return;\n",
              "\n",
              "          const docLinkHtml = 'Like what you see? Visit the ' +\n",
              "            '<a target=\"_blank\" href=https://colab.research.google.com/notebooks/data_table.ipynb>data table notebook</a>'\n",
              "            + ' to learn more about interactive tables.';\n",
              "          element.innerHTML = '';\n",
              "          dataTable['output_type'] = 'display_data';\n",
              "          await google.colab.output.renderOutput(dataTable, element);\n",
              "          const docLink = document.createElement('div');\n",
              "          docLink.innerHTML = docLinkHtml;\n",
              "          element.appendChild(docLink);\n",
              "        }\n",
              "      </script>\n",
              "    </div>\n",
              "  </div>\n",
              "  "
            ],
            "text/plain": [
              "                                                LIVRE  ...                                MOST_FREQUENT_TERMS\n",
              "0                              Cantique des cantiques  ...  {'aimé': 33, 'ur': 23, 'belle': 14, 'filles': ...\n",
              "1                 Deuxième Livre des Martyrs d'Israël  ...  {'roi': 80, 'judas': 72, 'juifs': 63, 'dieu': ...\n",
              "2                            Deuxième livre de Samuel  ...  {'roi': 269, 'david': 263, 'seigneur': 191, 'f...\n",
              "3                       Deuxième livre des Chroniques  ...  {'seigneur': 401, 'roi': 275, 'maison': 200, '...\n",
              "4                             Deuxième livre des Rois  ...  {'roi': 371, 'seigneur': 293, 'fils': 187, 'is...\n",
              "..                                                ...  ...                                                ...\n",
              "69  Première lettre de saint Paul Apôtre aux Thess...  ...  {'dieu': 37, 'seigneur': 25, 'frères': 17, 'jé...\n",
              "70    Première lettre de saint Paul Apôtre à Timothée  ...  {'foi': 25, 'dieu': 25, 'christ': 16, 'jésus':...\n",
              "71             Première lettre de saint Pierre Apôtre  ...  {'dieu': 45, 'christ': 22, 'gloire': 13, 'grâc...\n",
              "72                     Troisième lettre de saint Jean  ...  {'vérité': 6, 'témoignage': 5, 'aimé': 4, 'égl...\n",
              "73                                  Livre des Psaumes  ...  {'seigneur': 747, 'dieu': 453, 'terre': 162, '...\n",
              "\n",
              "[74 rows x 3 columns]"
            ]
          },
          "metadata": {},
          "execution_count": 85
        }
      ]
    },
    {
      "cell_type": "markdown",
      "source": [
        "L'analyse des occurences de mots nous donne quelques éclairages intéressants.\n",
        "Par exemple, dans le [Cantique des cantiques](https://fr.wikipedia.org/wiki/Cantique_des_Cantiques), les mots 'amour' et 'aimé' sont les plus présents !\n",
        "Jésus est bien le protagoniste principal des évangiles avec des associations intéressantes comme Jésus/Dieu chez Jean et Jésus/Dieu chez Luc. Alors que chez Marc et Mathieu, c'est Jésus/Homme qui est en tête."
      ],
      "metadata": {
        "id": "dnUwA6Jjy1re"
      }
    },
    {
      "cell_type": "markdown",
      "source": [
        "# Visualisation"
      ],
      "metadata": {
        "id": "2rV26teDv5Ry"
      }
    },
    {
      "cell_type": "markdown",
      "source": [
        "## Vectorisation\n",
        "\n",
        "La vectorisation consiste à transformer un texte en une représentation matricielle ayant pour colonnes les mots de vocabulaire présents dans le texte.\n",
        "Ex :\n",
        "\n",
        "| Texte                         | aime | les | pommes | poires | deteste | et |\n",
        "|-------------------------------|:----:|:---:|:------:|--------|---------|----|\n",
        "| aime les pommes               | 1    | 1   | 1      | 0      | 0       | 0  |\n",
        "| aime les poires et les poires | 1    | 2   | 0      | 2      | 0       | 1  |\n",
        "| déteste les pommes            | 0    | 1   | 1      | 0      | 1       | 0  |\n",
        "\n",
        "On obtient ainsi une matrice contenant autant de lignes que de texte et autant de colonnes que de mots présents dans les textes.\n",
        "\n",
        "Nous utiliserons la fonction [TfidfVectorizer](https://scikit-learn.org/stable/modules/generated/sklearn.feature_extraction.text.TfidfVectorizer.html) de la librairie sklearn.\n",
        "Cette transformation va plus [loin](https://scikit-learn.org/stable/modules/feature_extraction.html#tfidf-term-weighting) qu'un simple comptage d'occurence en donnant plus ou moins d'importance aux mots selon leur fréquence d'apparition"
      ],
      "metadata": {
        "id": "W6yUUVvDI6dw"
      }
    },
    {
      "cell_type": "code",
      "source": [
        "from sklearn.feature_extraction.text import TfidfVectorizer\n",
        "from sklearn.metrics.pairwise import cosine_similarity\n",
        "\n",
        "tf_idf_mod = TfidfVectorizer(ngram_range=(1,2))\n",
        "vec_res = tf_idf_mod.fit_transform(df_livres['TEXTE_CLEAN']).toarray()"
      ],
      "metadata": {
        "id": "ly5Vd1Am31ZF"
      },
      "execution_count": 86,
      "outputs": []
    },
    {
      "cell_type": "code",
      "source": [
        "vec_res.shape"
      ],
      "metadata": {
        "colab": {
          "base_uri": "https://localhost:8080/"
        },
        "id": "skFfRk5RpcnP",
        "outputId": "71e5e2bf-6c9d-4084-f21e-29b5fda61849"
      },
      "execution_count": 87,
      "outputs": [
        {
          "output_type": "execute_result",
          "data": {
            "text/plain": [
              "(74, 255733)"
            ]
          },
          "metadata": {},
          "execution_count": 87
        }
      ]
    },
    {
      "cell_type": "markdown",
      "source": [
        "La matrice obtenue est donc de dimension  `vec_res.shape = (74, 252512)`\n",
        "\n",
        "L'étape suivante consistera à réduire cette dimension afin de pouvoir visualiser notre corpus\n",
        "\n"
      ],
      "metadata": {
        "id": "7iKnt6PVvXW9"
      }
    },
    {
      "cell_type": "markdown",
      "source": [
        "## Réduction de dimension et visualisation"
      ],
      "metadata": {
        "id": "QTqBmf0rkGMn"
      }
    },
    {
      "cell_type": "code",
      "source": [
        "from sklearn.decomposition import PCA\n",
        "import seaborn as sns\n",
        "import matplotlib.pyplot as plt"
      ],
      "metadata": {
        "id": "qyILlaoj7Egs"
      },
      "execution_count": 88,
      "outputs": []
    },
    {
      "cell_type": "markdown",
      "source": [
        "Une des méthodes les plus courantes de réduction de dimension est l'[analyse en composantes principales](https://)"
      ],
      "metadata": {
        "id": "fvHlalphJFnJ"
      }
    },
    {
      "cell_type": "code",
      "source": [
        "pca_mod = PCA(n_components=2)\n",
        "X = pca_mod.fit_transform(vec_res)\n",
        "\n",
        "df_livres_vectorized = pd.DataFrame({\n",
        "    'testament' : df_livres['TESTAMENT'],\n",
        "    'code_livre': df_livres['CODE_LIVRE'],\n",
        "    'dim_0' : X[:,0],\n",
        "    'dim_1' : X[:,1]})\n",
        "\n",
        "plt.figure(figsize=(12,8))#, dpi=300)\n",
        "sns.set_style(\"darkgrid\")\n",
        "\n",
        "g = sns.scatterplot(data=df_livres_vectorized, x='dim_0', y='dim_1', hue = 'testament', style=\"testament\")\n",
        "g.legend(facecolor = 'white')\n",
        "g.set_title(\"Représentation 2D des livres de la Bible\")\n",
        "\n",
        "for i, txt in enumerate(df_livres_vectorized['code_livre']):\n",
        "  g.annotate(s=txt, \n",
        "             xy=(df_livres_vectorized.loc[i, 'dim_0']+0.01, df_livres_vectorized.loc[i, 'dim_1']-0.01))"
      ],
      "metadata": {
        "id": "awv4D5tbDaOg",
        "colab": {
          "base_uri": "https://localhost:8080/",
          "height": 514
        },
        "outputId": "2cc990e3-b5e6-4fe4-be06-9e9328716c89"
      },
      "execution_count": 89,
      "outputs": [
        {
          "output_type": "display_data",
          "data": {
            "image/png": "[encoded data removed]",
            "text/plain": [
              "<Figure size 864x576 with 1 Axes>"
            ]
          },
          "metadata": {}
        }
      ]
    },
    {
      "cell_type": "markdown",
      "source": [
        "La visualisation graphique basée uniquement sur le contenu des texte est riche d'enseignements.\n",
        "* La distinction Ancient Testament / Nouveau testament est très marquée.\n",
        "* Au sein du groupe du Nouveau Testament, 2 groupes principaux\n",
        " * les 4 évangiles\n",
        " * Les lettres\n",
        "* Le livre de l'Apocalypse est le livre du NT qui se rapproche le plus du groupe de l'AT.\n",
        "* Les Actes des Apôtres, qui n'est ni un récit de la vie du Christ comme les Evangiles, ni un ensemble d'exhortations comme les Lettres, se retrouve isolé.\n"
      ],
      "metadata": {
        "id": "zY5IBkyEw04_"
      }
    },
    {
      "cell_type": "markdown",
      "source": [
        "# Moteur de recommandation biblique"
      ],
      "metadata": {
        "id": "OY_BXi2ywEMl"
      }
    },
    {
      "cell_type": "markdown",
      "source": [
        "## Vectorisation par vecteurs Spacy\n",
        "\n",
        "Nous avons vu plus haut qu'il est indispensable de transformer les textes en vecteurs numériques pour pouvoir les utiliser dans les algorithmes de traitement de données. Alors que nous avions utilisé la méthode Td-Idf, nous allons maintenant associer à chaque texte un vecteur calculé au préalable sur un [corpus](https://spacy.io/models/fr#fr_core_news_lg) d'articles de journaux.\n",
        "Dans le model fr_core_news_lg proposé par la library spaCy, 500k vecteurs de dimension 300 sont mis à disposition, correspondant à 500k mots.\n",
        "\n",
        "Chaque verset sera donc associé à un vecteur de dimension 300. Le vecteur d'un verset étant la moyenne des vecteurs des mots qui le composent.\n",
        "\n",
        "Le principe du moteur de recommandation sera le suivant ↙\n",
        "- Entrée d'un texte par l'utilisateur (quelques mots suffisent)\n",
        "- Attribution d'un vecteur à ce texte\n",
        "- Identification et présentation des versets les plus proches"
      ],
      "metadata": {
        "id": "6sTp-PZF13fj"
      }
    },
    {
      "cell_type": "markdown",
      "source": [
        "Tout d'abord, une fonction permettant de trouver le vecteur spaCy d'un texte"
      ],
      "metadata": {
        "id": "XzOYDpV_8IGk"
      }
    },
    {
      "cell_type": "code",
      "source": [
        "def return_sentence_vector(sentence):\n",
        "  doc = nlp(sentence)\n",
        "  return doc.vector"
      ],
      "metadata": {
        "id": "KVOa96yY3vEU"
      },
      "execution_count": 90,
      "outputs": []
    },
    {
      "cell_type": "markdown",
      "source": [
        "Le corpus biblique est enrichi des vecteurs pour chacun des versets (temps de calcul environ 5 minutes).\n",
        "\n",
        "Le corpus enrichi est sauvegardé pour pouvoir être réutilisé."
      ],
      "metadata": {
        "id": "w1eCc7dt8QlF"
      }
    },
    {
      "cell_type": "code",
      "source": [
        "# dure 5 minutes\n",
        "vectors = data['TEXTE_CLEAN'].apply(return_sentence_vector)\n",
        "df_vectors = pd.DataFrame(data = [vec for vec in vectors], columns = ['v'+str(i) for i in range(0, len(vectors[0]))])\n",
        "\n",
        "df = pd.concat([data, df_vectors], axis=1)\n",
        "df.to_parquet('/gdrive/MyDrive/Colab Notebooks/bible_aelf_vectors.parquet.gzip',compression='gzip')"
      ],
      "metadata": {
        "id": "kLNoz1XR16_K"
      },
      "execution_count": 91,
      "outputs": []
    },
    {
      "cell_type": "markdown",
      "source": [
        "## Moteur de recommandation\n",
        "\n"
      ],
      "metadata": {
        "id": "75OSM0vIJZ2V"
      }
    },
    {
      "cell_type": "code",
      "source": [
        "data = pd.read_parquet('/gdrive/MyDrive/Colab Notebooks/bible_aelf_vectors.parquet.gzip')"
      ],
      "metadata": {
        "id": "SeWIspVa31wZ"
      },
      "execution_count": 93,
      "outputs": []
    },
    {
      "cell_type": "code",
      "source": [
        "from sklearn.metrics.pairwise import cosine_distances, euclidean_distances\n",
        "import numpy as np\n",
        "\n",
        "def propose_passage(txt, nb_proposions = 10, filter=None):\n",
        "\n",
        "  better_phrase = clean_text(txt, remove_stop_words=True)\n",
        "  vector = return_sentence_vector(better_phrase)\n",
        "  \n",
        "  if filter is not None:\n",
        "    filtered_data = data.loc[data['TESTAMENT']==filter, :].reset_index()\n",
        "    vector_subset = filtered_data.loc[:,filtered_data.columns.str.startswith('v')]\n",
        "    distances = cosine_distances(vector.reshape((1, -1)), vector_subset).reshape(-1)\n",
        "    result = filtered_data.loc[np.argsort(distances, )[:nb_proposions], ['URL', 'TEXTE']]\n",
        "  else:\n",
        "    vector_subset = data.loc[:, data.columns.str.startswith('v')]\n",
        "    distances = cosine_distances(vector.reshape((1, -1)), vector_subset).reshape(-1)\n",
        "    result = data.loc[np.argsort(distances, )[:nb_proposions], ['URL', 'TEXTE']]\n",
        "  \n",
        "  return result"
      ],
      "metadata": {
        "id": "rh4pucHwJcwd"
      },
      "execution_count": null,
      "outputs": []
    },
    {
      "cell_type": "code",
      "source": [
        "propose_passage('marie comblée de grâce', nb_proposions = 10, filter=None)"
      ],
      "metadata": {
        "colab": {
          "base_uri": "https://localhost:8080/",
          "height": 322
        },
        "id": "1djW0NutCgyV",
        "outputId": "555c27a8-7da0-428a-e2c5-4acc2048ffcf"
      },
      "execution_count": 165,
      "outputs": [
        {
          "output_type": "execute_result",
          "data": {
            "text/html": [
              "\n",
              "  <div id=\"df-e51d94ba-03bf-4489-a44f-e4baa771968f\">\n",
              "    <div class=\"colab-df-container\">\n",
              "      <div>\n",
              "<style scoped>\n",
              "    .dataframe tbody tr th:only-of-type {\n",
              "        vertical-align: middle;\n",
              "    }\n",
              "\n",
              "    .dataframe tbody tr th {\n",
              "        vertical-align: top;\n",
              "    }\n",
              "\n",
              "    .dataframe thead th {\n",
              "        text-align: right;\n",
              "    }\n",
              "</style>\n",
              "<table border=\"1\" class=\"dataframe\">\n",
              "  <thead>\n",
              "    <tr style=\"text-align: right;\">\n",
              "      <th></th>\n",
              "      <th>URL</th>\n",
              "      <th>TEXTE</th>\n",
              "    </tr>\n",
              "  </thead>\n",
              "  <tbody>\n",
              "    <tr>\n",
              "      <th>11078</th>\n",
              "      <td>https://www.aelf.org/bible/Ep/1</td>\n",
              "      <td>à la louange de gloire de sa grâce,\\nla grâce ...</td>\n",
              "    </tr>\n",
              "    <tr>\n",
              "      <th>34142</th>\n",
              "      <td>https://www.aelf.org/bible/Si/26</td>\n",
              "      <td>La grâce de la femme enchante son mari,\\net se...</td>\n",
              "    </tr>\n",
              "    <tr>\n",
              "      <th>16283</th>\n",
              "      <td>https://www.aelf.org/bible/He/13</td>\n",
              "      <td>La grâce soit avec vous tous.</td>\n",
              "    </tr>\n",
              "    <tr>\n",
              "      <th>15225</th>\n",
              "      <td>https://www.aelf.org/bible/Gn/30</td>\n",
              "      <td>Rachel reprit : « Voici ma servante Bilha, uni...</td>\n",
              "    </tr>\n",
              "    <tr>\n",
              "      <th>32770</th>\n",
              "      <td>https://www.aelf.org/bible/Rm/11</td>\n",
              "      <td>Et si c’est par grâce, ce n’est pas par les œu...</td>\n",
              "    </tr>\n",
              "    <tr>\n",
              "      <th>35316</th>\n",
              "      <td>https://www.aelf.org/bible/Za/4</td>\n",
              "      <td>Qui es-tu, grande montagne ?\\nDevant Zorobabel...</td>\n",
              "    </tr>\n",
              "    <tr>\n",
              "      <th>22786</th>\n",
              "      <td>https://www.aelf.org/bible/Lc/1</td>\n",
              "      <td>L’ange lui dit alors : « Sois sans crainte, Ma...</td>\n",
              "    </tr>\n",
              "    <tr>\n",
              "      <th>22784</th>\n",
              "      <td>https://www.aelf.org/bible/Lc/1</td>\n",
              "      <td>L’ange entra chez elle et dit : « Je te salue,...</td>\n",
              "    </tr>\n",
              "    <tr>\n",
              "      <th>19799</th>\n",
              "      <td>https://www.aelf.org/bible/Jn/1</td>\n",
              "      <td>Tous nous avons eu part à sa plénitude,\\nnous ...</td>\n",
              "    </tr>\n",
              "    <tr>\n",
              "      <th>31165</th>\n",
              "      <td>https://www.aelf.org/bible/Ps/88</td>\n",
              "      <td>Tu es sa force éclatante ; ta grâce accroît no...</td>\n",
              "    </tr>\n",
              "  </tbody>\n",
              "</table>\n",
              "</div>\n",
              "      <button class=\"colab-df-convert\" onclick=\"convertToInteractive('df-e51d94ba-03bf-4489-a44f-e4baa771968f')\"\n",
              "              title=\"Convert this dataframe to an interactive table.\"\n",
              "              style=\"display:none;\">\n",
              "        \n",
              "  <svg xmlns=\"http://www.w3.org/2000/svg\" height=\"24px\"viewBox=\"0 0 24 24\"\n",
              "       width=\"24px\">\n",
              "    <path d=\"M0 0h24v24H0V0z\" fill=\"none\"/>\n",
              "    <path d=\"M18.56 5.44l.94 2.06.94-2.06 2.06-.94-2.06-.94-.94-2.06-.94 2.06-2.06.94zm-11 1L8.5 8.5l.94-2.06 2.06-.94-2.06-.94L8.5 2.5l-.94 2.06-2.06.94zm10 10l.94 2.06.94-2.06 2.06-.94-2.06-.94-.94-2.06-.94 2.06-2.06.94z\"/><path d=\"M17.41 7.96l-1.37-1.37c-.4-.4-.92-.59-1.43-.59-.52 0-1.04.2-1.43.59L10.3 9.45l-7.72 7.72c-.78.78-.78 2.05 0 2.83L4 21.41c.39.39.9.59 1.41.59.51 0 1.02-.2 1.41-.59l7.78-7.78 2.81-2.81c.8-.78.8-2.07 0-2.86zM5.41 20L4 18.59l7.72-7.72 1.47 1.35L5.41 20z\"/>\n",
              "  </svg>\n",
              "      </button>\n",
              "      \n",
              "  <style>\n",
              "    .colab-df-container {\n",
              "      display:flex;\n",
              "      flex-wrap:wrap;\n",
              "      gap: 12px;\n",
              "    }\n",
              "\n",
              "    .colab-df-convert {\n",
              "      background-color: #E8F0FE;\n",
              "      border: none;\n",
              "      border-radius: 50%;\n",
              "      cursor: pointer;\n",
              "      display: none;\n",
              "      fill: #1967D2;\n",
              "      height: 32px;\n",
              "      padding: 0 0 0 0;\n",
              "      width: 32px;\n",
              "    }\n",
              "\n",
              "    .colab-df-convert:hover {\n",
              "      background-color: #E2EBFA;\n",
              "      box-shadow: 0px 1px 2px rgba(60, 64, 67, 0.3), 0px 1px 3px 1px rgba(60, 64, 67, 0.15);\n",
              "      fill: #174EA6;\n",
              "    }\n",
              "\n",
              "    [theme=dark] .colab-df-convert {\n",
              "      background-color: #3B4455;\n",
              "      fill: #D2E3FC;\n",
              "    }\n",
              "\n",
              "    [theme=dark] .colab-df-convert:hover {\n",
              "      background-color: #434B5C;\n",
              "      box-shadow: 0px 1px 3px 1px rgba(0, 0, 0, 0.15);\n",
              "      filter: drop-shadow(0px 1px 2px rgba(0, 0, 0, 0.3));\n",
              "      fill: #FFFFFF;\n",
              "    }\n",
              "  </style>\n",
              "\n",
              "      <script>\n",
              "        const buttonEl =\n",
              "          document.querySelector('#df-e51d94ba-03bf-4489-a44f-e4baa771968f button.colab-df-convert');\n",
              "        buttonEl.style.display =\n",
              "          google.colab.kernel.accessAllowed ? 'block' : 'none';\n",
              "\n",
              "        async function convertToInteractive(key) {\n",
              "          const element = document.querySelector('#df-e51d94ba-03bf-4489-a44f-e4baa771968f');\n",
              "          const dataTable =\n",
              "            await google.colab.kernel.invokeFunction('convertToInteractive',\n",
              "                                                     [key], {});\n",
              "          if (!dataTable) return;\n",
              "\n",
              "          const docLinkHtml = 'Like what you see? Visit the ' +\n",
              "            '<a target=\"_blank\" href=https://colab.research.google.com/notebooks/data_table.ipynb>data table notebook</a>'\n",
              "            + ' to learn more about interactive tables.';\n",
              "          element.innerHTML = '';\n",
              "          dataTable['output_type'] = 'display_data';\n",
              "          await google.colab.output.renderOutput(dataTable, element);\n",
              "          const docLink = document.createElement('div');\n",
              "          docLink.innerHTML = docLinkHtml;\n",
              "          element.appendChild(docLink);\n",
              "        }\n",
              "      </script>\n",
              "    </div>\n",
              "  </div>\n",
              "  "
            ],
            "text/plain": [
              "                                    URL                                              TEXTE\n",
              "11078   https://www.aelf.org/bible/Ep/1  à la louange de gloire de sa grâce,\\nla grâce ...\n",
              "34142  https://www.aelf.org/bible/Si/26  La grâce de la femme enchante son mari,\\net se...\n",
              "16283  https://www.aelf.org/bible/He/13                      La grâce soit avec vous tous.\n",
              "15225  https://www.aelf.org/bible/Gn/30  Rachel reprit : « Voici ma servante Bilha, uni...\n",
              "32770  https://www.aelf.org/bible/Rm/11  Et si c’est par grâce, ce n’est pas par les œu...\n",
              "35316   https://www.aelf.org/bible/Za/4  Qui es-tu, grande montagne ?\\nDevant Zorobabel...\n",
              "22786   https://www.aelf.org/bible/Lc/1  L’ange lui dit alors : « Sois sans crainte, Ma...\n",
              "22784   https://www.aelf.org/bible/Lc/1  L’ange entra chez elle et dit : « Je te salue,...\n",
              "19799   https://www.aelf.org/bible/Jn/1  Tous nous avons eu part à sa plénitude,\\nnous ...\n",
              "31165  https://www.aelf.org/bible/Ps/88  Tu es sa force éclatante ; ta grâce accroît no..."
            ]
          },
          "metadata": {},
          "execution_count": 165
        }
      ]
    },
    {
      "cell_type": "code",
      "source": [
        ""
      ],
      "metadata": {
        "id": "qHVC6EL-Hp8n"
      },
      "execution_count": null,
      "outputs": []
    }
  ]
}